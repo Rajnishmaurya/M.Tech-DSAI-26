{
 "cells": [
  {
   "cell_type": "code",
   "execution_count": 2,
   "id": "26cb8bab-95ad-4dfd-9651-0e8e7c9db247",
   "metadata": {},
   "outputs": [],
   "source": [
    "import matplotlib.pyplot as plt\n",
    "import pandas as pd\n",
    "import numpy as np\n",
    "import seaborn as sns\n",
    "from math import log\n",
    "from sklearn import linear_model\n"
   ]
  },
  {
   "cell_type": "code",
   "execution_count": 3,
   "id": "8f72b495-9366-429c-aeb6-496bed237f67",
   "metadata": {},
   "outputs": [
    {
     "data": {
      "text/html": [
       "<div>\n",
       "<style scoped>\n",
       "    .dataframe tbody tr th:only-of-type {\n",
       "        vertical-align: middle;\n",
       "    }\n",
       "\n",
       "    .dataframe tbody tr th {\n",
       "        vertical-align: top;\n",
       "    }\n",
       "\n",
       "    .dataframe thead th {\n",
       "        text-align: right;\n",
       "    }\n",
       "</style>\n",
       "<table border=\"1\" class=\"dataframe\">\n",
       "  <thead>\n",
       "    <tr style=\"text-align: right;\">\n",
       "      <th></th>\n",
       "      <th>SpringPos</th>\n",
       "      <th>StockPrice</th>\n",
       "    </tr>\n",
       "  </thead>\n",
       "  <tbody>\n",
       "    <tr>\n",
       "      <th>0</th>\n",
       "      <td>2.27</td>\n",
       "      <td>3.48</td>\n",
       "    </tr>\n",
       "    <tr>\n",
       "      <th>1</th>\n",
       "      <td>6.38</td>\n",
       "      <td>2.99</td>\n",
       "    </tr>\n",
       "    <tr>\n",
       "      <th>2</th>\n",
       "      <td>8.61</td>\n",
       "      <td>5.86</td>\n",
       "    </tr>\n",
       "    <tr>\n",
       "      <th>3</th>\n",
       "      <td>8.65</td>\n",
       "      <td>1.79</td>\n",
       "    </tr>\n",
       "    <tr>\n",
       "      <th>4</th>\n",
       "      <td>13.17</td>\n",
       "      <td>3.47</td>\n",
       "    </tr>\n",
       "    <tr>\n",
       "      <th>...</th>\n",
       "      <td>...</td>\n",
       "      <td>...</td>\n",
       "    </tr>\n",
       "    <tr>\n",
       "      <th>221</th>\n",
       "      <td>1.37</td>\n",
       "      <td>25.14</td>\n",
       "    </tr>\n",
       "    <tr>\n",
       "      <th>222</th>\n",
       "      <td>2.29</td>\n",
       "      <td>22.65</td>\n",
       "    </tr>\n",
       "    <tr>\n",
       "      <th>223</th>\n",
       "      <td>1.80</td>\n",
       "      <td>21.04</td>\n",
       "    </tr>\n",
       "    <tr>\n",
       "      <th>224</th>\n",
       "      <td>0.82</td>\n",
       "      <td>20.98</td>\n",
       "    </tr>\n",
       "    <tr>\n",
       "      <th>225</th>\n",
       "      <td>0.59</td>\n",
       "      <td>20.30</td>\n",
       "    </tr>\n",
       "  </tbody>\n",
       "</table>\n",
       "<p>226 rows × 2 columns</p>\n",
       "</div>"
      ],
      "text/plain": [
       "     SpringPos  StockPrice\n",
       "0         2.27        3.48\n",
       "1         6.38        2.99\n",
       "2         8.61        5.86\n",
       "3         8.65        1.79\n",
       "4        13.17        3.47\n",
       "..         ...         ...\n",
       "221       1.37       25.14\n",
       "222       2.29       22.65\n",
       "223       1.80       21.04\n",
       "224       0.82       20.98\n",
       "225       0.59       20.30\n",
       "\n",
       "[226 rows x 2 columns]"
      ]
     },
     "execution_count": 3,
     "metadata": {},
     "output_type": "execute_result"
    }
   ],
   "source": [
    "data=pd.read_csv(\"/home/rajnish/Desktop/IIT MADRAS M.Tech DSAI 2026/DAL(DATA ANALYTICS LABORATORY)/Assignments/Assignments2/Assignment2.data\",sep='\\t')\n",
    "data"
   ]
  },
  {
   "cell_type": "code",
   "execution_count": 4,
   "id": "7330da98-611b-4715-9c0c-df8efd9a56e4",
   "metadata": {},
   "outputs": [
    {
     "data": {
      "text/html": [
       "<div>\n",
       "<style scoped>\n",
       "    .dataframe tbody tr th:only-of-type {\n",
       "        vertical-align: middle;\n",
       "    }\n",
       "\n",
       "    .dataframe tbody tr th {\n",
       "        vertical-align: top;\n",
       "    }\n",
       "\n",
       "    .dataframe thead th {\n",
       "        text-align: right;\n",
       "    }\n",
       "</style>\n",
       "<table border=\"1\" class=\"dataframe\">\n",
       "  <thead>\n",
       "    <tr style=\"text-align: right;\">\n",
       "      <th></th>\n",
       "      <th>SpringPos</th>\n",
       "      <th>StockPrice</th>\n",
       "    </tr>\n",
       "  </thead>\n",
       "  <tbody>\n",
       "    <tr>\n",
       "      <th>count</th>\n",
       "      <td>226.000000</td>\n",
       "      <td>226.000000</td>\n",
       "    </tr>\n",
       "    <tr>\n",
       "      <th>mean</th>\n",
       "      <td>3.785221</td>\n",
       "      <td>14.187743</td>\n",
       "    </tr>\n",
       "    <tr>\n",
       "      <th>std</th>\n",
       "      <td>10.704778</td>\n",
       "      <td>7.447450</td>\n",
       "    </tr>\n",
       "    <tr>\n",
       "      <th>min</th>\n",
       "      <td>-19.910000</td>\n",
       "      <td>0.670000</td>\n",
       "    </tr>\n",
       "    <tr>\n",
       "      <th>25%</th>\n",
       "      <td>-3.960000</td>\n",
       "      <td>8.355000</td>\n",
       "    </tr>\n",
       "    <tr>\n",
       "      <th>50%</th>\n",
       "      <td>4.195000</td>\n",
       "      <td>13.970000</td>\n",
       "    </tr>\n",
       "    <tr>\n",
       "      <th>75%</th>\n",
       "      <td>11.295000</td>\n",
       "      <td>19.632500</td>\n",
       "    </tr>\n",
       "    <tr>\n",
       "      <th>max</th>\n",
       "      <td>26.100000</td>\n",
       "      <td>30.050000</td>\n",
       "    </tr>\n",
       "  </tbody>\n",
       "</table>\n",
       "</div>"
      ],
      "text/plain": [
       "        SpringPos  StockPrice\n",
       "count  226.000000  226.000000\n",
       "mean     3.785221   14.187743\n",
       "std     10.704778    7.447450\n",
       "min    -19.910000    0.670000\n",
       "25%     -3.960000    8.355000\n",
       "50%      4.195000   13.970000\n",
       "75%     11.295000   19.632500\n",
       "max     26.100000   30.050000"
      ]
     },
     "execution_count": 4,
     "metadata": {},
     "output_type": "execute_result"
    }
   ],
   "source": [
    "data.describe()"
   ]
  },
  {
   "cell_type": "code",
   "execution_count": 5,
   "id": "e48d755b-3fa5-4ea7-8930-a2184cdbdf05",
   "metadata": {},
   "outputs": [
    {
     "data": {
      "image/png": "[encoded data removed]",
      "text/plain": [
       "<Figure size 1000x500 with 2 Axes>"
      ]
     },
     "metadata": {},
     "output_type": "display_data"
    }
   ],
   "source": [
    "fig, (ax1, ax2) = plt.subplots(2, 1)\n",
    "fig.suptitle('Two Cyber Physical Systems')\n",
    "fig.set_figwidth(10)\n",
    "fig.set_figheight(5)\n",
    "\n",
    "ax1.plot(data.SpringPos, 'r+')\n",
    "ax1.set_ylabel('Spring Position')\n",
    "ax2.plot(data.StockPrice, 'b.')\n",
    "ax2.set_ylabel('Stock Price')\n",
    "ax2.set_xlabel('time')\n",
    "\n",
    "\n",
    "plt.show()"
   ]
  },
  {
   "cell_type": "markdown",
   "id": "973c2331-f0b0-4132-a0fc-14cde419d1cd",
   "metadata": {},
   "source": [
    "# StockPrice Dataset"
   ]
  },
  {
   "cell_type": "markdown",
   "id": "1aff0a9b-3048-43a9-9c08-89b5b0995bcb",
   "metadata": {},
   "source": [
    "# Task 1"
   ]
  },
  {
   "cell_type": "markdown",
   "id": "865b4e4d-45a5-4001-84f0-9c69942f5f34",
   "metadata": {},
   "source": [
    "1. Implement the OLS closed form solution using numpy’s matrix operators to find the value of ‘m’ that minimizes SSE."
   ]
  },
  {
   "cell_type": "code",
   "execution_count": 13,
   "id": "23cbdef5-5b8e-4d2a-8fe1-a6a9b8c1a3a6",
   "metadata": {},
   "outputs": [
    {
     "data": {
      "text/plain": [
       "<bound method NDFrame.head of        x      y\n",
       "0      0   3.48\n",
       "1      1   2.99\n",
       "2      2   5.86\n",
       "3      3   1.79\n",
       "4      4   3.47\n",
       "..   ...    ...\n",
       "221  221  25.14\n",
       "222  222  22.65\n",
       "223  223  21.04\n",
       "224  224  20.98\n",
       "225  225  20.30\n",
       "\n",
       "[226 rows x 2 columns]>"
      ]
     },
     "execution_count": 13,
     "metadata": {},
     "output_type": "execute_result"
    }
   ],
   "source": [
    "y2 = pd.DataFrame({\"x\":range(226), \"y\":data.StockPrice})\n",
    "\n",
    "y2.head"
   ]
  },
  {
   "cell_type": "code",
   "execution_count": 15,
   "id": "67ec7297-0b92-4c93-bf14-7b8709d134d0",
   "metadata": {},
   "outputs": [],
   "source": [
    "yy=np.array(y2.y)\n",
    "xx=np.expand_dims(y2.x,axis=1)"
   ]
  },
  {
   "cell_type": "code",
   "execution_count": 17,
   "id": "834dae50-ecc9-4a93-ba33-5d467c7e576d",
   "metadata": {},
   "outputs": [
    {
     "name": "stdout",
     "output_type": "stream",
     "text": [
      "Beta =  0.11899412514961835\n",
      "SSE =  3850.3354330802345\n"
     ]
    }
   ],
   "source": [
    "numerator = np.matmul(np.transpose(xx), yy)\n",
    "denom = np.matmul(np.transpose(xx), xx)\n",
    "denom_inv = np.linalg.inv(denom)\n",
    "beta = np.matmul(denom_inv, numerator)\n",
    "print(\"Beta = \", beta[0])\n",
    "sse = np.sum((xx*beta[0] - np.expand_dims(yy,1))**2)\n",
    "print(\"SSE = \", sse)"
   ]
  },
  {
   "cell_type": "code",
   "execution_count": 19,
   "id": "917d6a7a-1cc2-4edd-8bee-a6ccc4440d1d",
   "metadata": {},
   "outputs": [],
   "source": [
    "# estimate the value of the beta vector assuming that X is made of independent features.\n",
    "def estimateBeta(X, y):\n",
    "    numerator = np.matmul(np.transpose(X), y)\n",
    "    denom = np.matmul(np.transpose(X), X)\n",
    "    denom_inv = np.linalg.inv(denom)\n",
    "    beta = np.matmul(denom_inv, numerator)\n",
    "    return beta\n",
    "\n",
    "# create a helper that would estimate yhat from X and beta.\n",
    "def predict(beta, X):\n",
    "    # reshape the input to a matrix, if it is appearing like an 1d array.\n",
    "    if len(X.shape) != 2:\n",
    "        X = np.expand_dims(X,1)\n",
    "    # convert the beta list in to an array.\n",
    "    beta = np.array(beta)\n",
    "    # perform estimation of yhat.\n",
    "    return np.matmul(X, beta)\n",
    "\n",
    "# compute the sum of squared error between y and yhat.\n",
    "def SSE(y, yhat):\n",
    "    return np.sum((y-yhat)**2)"
   ]
  },
  {
   "cell_type": "code",
   "execution_count": 21,
   "id": "8b98cec7-a225-4b4d-b7b1-60990fef3ab1",
   "metadata": {},
   "outputs": [
    {
     "data": {
      "text/plain": [
       "Text(0.5, 0, 'Time')"
      ]
     },
     "execution_count": 21,
     "metadata": {},
     "output_type": "execute_result"
    },
    {
     "data": {
      "image/png": "[encoded data removed]",
      "text/plain": [
       "<Figure size 640x480 with 1 Axes>"
      ]
     },
     "metadata": {},
     "output_type": "display_data"
    }
   ],
   "source": [
    "plt.plot(y2.x, y2.y, 'r+')\n",
    "yhat1 = predict(beta, y2.x)\n",
    "plt.plot(y2.x, yhat1, 'b-')  # yhat = y2.x*beta[0]\n",
    "plt.ylabel('Stock Price')\n",
    "plt.xlabel('Time')"
   ]
  },
  {
   "cell_type": "code",
   "execution_count": 23,
   "id": "e9fcaa99-f885-46d8-be74-bec5aea7f70b",
   "metadata": {},
   "outputs": [
    {
     "data": {
      "text/html": [
       "<div>\n",
       "<style scoped>\n",
       "    .dataframe tbody tr th:only-of-type {\n",
       "        vertical-align: middle;\n",
       "    }\n",
       "\n",
       "    .dataframe tbody tr th {\n",
       "        vertical-align: top;\n",
       "    }\n",
       "\n",
       "    .dataframe thead th {\n",
       "        text-align: right;\n",
       "    }\n",
       "</style>\n",
       "<table border=\"1\" class=\"dataframe\">\n",
       "  <thead>\n",
       "    <tr style=\"text-align: right;\">\n",
       "      <th></th>\n",
       "      <th>bias</th>\n",
       "      <th>x</th>\n",
       "      <th>y</th>\n",
       "    </tr>\n",
       "  </thead>\n",
       "  <tbody>\n",
       "    <tr>\n",
       "      <th>0</th>\n",
       "      <td>1.0</td>\n",
       "      <td>0</td>\n",
       "      <td>3.48</td>\n",
       "    </tr>\n",
       "    <tr>\n",
       "      <th>1</th>\n",
       "      <td>1.0</td>\n",
       "      <td>1</td>\n",
       "      <td>2.99</td>\n",
       "    </tr>\n",
       "    <tr>\n",
       "      <th>2</th>\n",
       "      <td>1.0</td>\n",
       "      <td>2</td>\n",
       "      <td>5.86</td>\n",
       "    </tr>\n",
       "    <tr>\n",
       "      <th>3</th>\n",
       "      <td>1.0</td>\n",
       "      <td>3</td>\n",
       "      <td>1.79</td>\n",
       "    </tr>\n",
       "    <tr>\n",
       "      <th>4</th>\n",
       "      <td>1.0</td>\n",
       "      <td>4</td>\n",
       "      <td>3.47</td>\n",
       "    </tr>\n",
       "  </tbody>\n",
       "</table>\n",
       "</div>"
      ],
      "text/plain": [
       "   bias  x     y\n",
       "0   1.0  0  3.48\n",
       "1   1.0  1  2.99\n",
       "2   1.0  2  5.86\n",
       "3   1.0  3  1.79\n",
       "4   1.0  4  3.47"
      ]
     },
     "execution_count": 23,
     "metadata": {},
     "output_type": "execute_result"
    }
   ],
   "source": [
    "y2df = pd.DataFrame({\"bias\":np.ones(226), \"x\":range(226), \"y\":data.StockPrice})\n",
    "yy = np.array(y2df.y) \n",
    "xx = np.array(y2df[[\"bias\",\"x\"]])\n",
    "y2df.head()"
   ]
  },
  {
   "cell_type": "code",
   "execution_count": 25,
   "id": "b31b26dd-569e-4bb7-b53c-e3d6a152ec18",
   "metadata": {},
   "outputs": [
    {
     "name": "stdout",
     "output_type": "stream",
     "text": [
      "beta = [3.18244786 0.09782485]\n",
      "SSE = 3274.298469663405\n"
     ]
    }
   ],
   "source": [
    "beta2 = estimateBeta(xx, yy)\n",
    "print(\"beta =\", beta2)\n",
    "yhat2 = predict(beta2, xx)\n",
    "loss = SSE(yy, yhat2)\n",
    "print(\"SSE =\", loss)"
   ]
  },
  {
   "cell_type": "code",
   "execution_count": 27,
   "id": "b328b309-af21-436b-9366-99991f8129c5",
   "metadata": {},
   "outputs": [
    {
     "data": {
      "text/plain": [
       "Text(0.5, 0, 'Time')"
      ]
     },
     "execution_count": 27,
     "metadata": {},
     "output_type": "execute_result"
    },
    {
     "data": {
      "image/png": "[encoded data removed]",
      "text/plain": [
       "<Figure size 640x480 with 1 Axes>"
      ]
     },
     "metadata": {},
     "output_type": "display_data"
    }
   ],
   "source": [
    "plt.plot(y2df.x, y2df.y, 'r+')\n",
    "plt.plot(y2df.x, yhat1, 'b-')\n",
    "plt.plot(y2df.x, yhat2, 'g-')\n",
    "plt.ylabel('Stock Price')\n",
    "plt.xlabel('Time')"
   ]
  },
  {
   "cell_type": "code",
   "execution_count": 29,
   "id": "d913a07b-05d8-4e4f-928d-8b2009c95087",
   "metadata": {},
   "outputs": [
    {
     "data": {
      "text/html": [
       "<div>\n",
       "<style scoped>\n",
       "    .dataframe tbody tr th:only-of-type {\n",
       "        vertical-align: middle;\n",
       "    }\n",
       "\n",
       "    .dataframe tbody tr th {\n",
       "        vertical-align: top;\n",
       "    }\n",
       "\n",
       "    .dataframe thead th {\n",
       "        text-align: right;\n",
       "    }\n",
       "</style>\n",
       "<table border=\"1\" class=\"dataframe\">\n",
       "  <thead>\n",
       "    <tr style=\"text-align: right;\">\n",
       "      <th></th>\n",
       "      <th>bias</th>\n",
       "      <th>x</th>\n",
       "      <th>x1</th>\n",
       "      <th>x2</th>\n",
       "      <th>y</th>\n",
       "    </tr>\n",
       "  </thead>\n",
       "  <tbody>\n",
       "    <tr>\n",
       "      <th>0</th>\n",
       "      <td>1.0</td>\n",
       "      <td>0</td>\n",
       "      <td>0.00</td>\n",
       "      <td>0.000000</td>\n",
       "      <td>3.48</td>\n",
       "    </tr>\n",
       "    <tr>\n",
       "      <th>1</th>\n",
       "      <td>1.0</td>\n",
       "      <td>1</td>\n",
       "      <td>0.10</td>\n",
       "      <td>0.099833</td>\n",
       "      <td>2.99</td>\n",
       "    </tr>\n",
       "    <tr>\n",
       "      <th>2</th>\n",
       "      <td>1.0</td>\n",
       "      <td>2</td>\n",
       "      <td>0.20</td>\n",
       "      <td>0.198669</td>\n",
       "      <td>5.86</td>\n",
       "    </tr>\n",
       "    <tr>\n",
       "      <th>3</th>\n",
       "      <td>1.0</td>\n",
       "      <td>3</td>\n",
       "      <td>0.29</td>\n",
       "      <td>0.285952</td>\n",
       "      <td>1.79</td>\n",
       "    </tr>\n",
       "    <tr>\n",
       "      <th>4</th>\n",
       "      <td>1.0</td>\n",
       "      <td>4</td>\n",
       "      <td>0.39</td>\n",
       "      <td>0.380188</td>\n",
       "      <td>3.47</td>\n",
       "    </tr>\n",
       "    <tr>\n",
       "      <th>5</th>\n",
       "      <td>1.0</td>\n",
       "      <td>5</td>\n",
       "      <td>0.49</td>\n",
       "      <td>0.470626</td>\n",
       "      <td>7.73</td>\n",
       "    </tr>\n",
       "    <tr>\n",
       "      <th>6</th>\n",
       "      <td>1.0</td>\n",
       "      <td>6</td>\n",
       "      <td>0.59</td>\n",
       "      <td>0.556361</td>\n",
       "      <td>7.83</td>\n",
       "    </tr>\n",
       "    <tr>\n",
       "      <th>7</th>\n",
       "      <td>1.0</td>\n",
       "      <td>7</td>\n",
       "      <td>0.68</td>\n",
       "      <td>0.628793</td>\n",
       "      <td>4.70</td>\n",
       "    </tr>\n",
       "    <tr>\n",
       "      <th>8</th>\n",
       "      <td>1.0</td>\n",
       "      <td>8</td>\n",
       "      <td>0.78</td>\n",
       "      <td>0.703279</td>\n",
       "      <td>8.97</td>\n",
       "    </tr>\n",
       "    <tr>\n",
       "      <th>9</th>\n",
       "      <td>1.0</td>\n",
       "      <td>9</td>\n",
       "      <td>0.88</td>\n",
       "      <td>0.770739</td>\n",
       "      <td>8.43</td>\n",
       "    </tr>\n",
       "  </tbody>\n",
       "</table>\n",
       "</div>"
      ],
      "text/plain": [
       "   bias  x    x1        x2     y\n",
       "0   1.0  0  0.00  0.000000  3.48\n",
       "1   1.0  1  0.10  0.099833  2.99\n",
       "2   1.0  2  0.20  0.198669  5.86\n",
       "3   1.0  3  0.29  0.285952  1.79\n",
       "4   1.0  4  0.39  0.380188  3.47\n",
       "5   1.0  5  0.49  0.470626  7.73\n",
       "6   1.0  6  0.59  0.556361  7.83\n",
       "7   1.0  7  0.68  0.628793  4.70\n",
       "8   1.0  8  0.78  0.703279  8.97\n",
       "9   1.0  9  0.88  0.770739  8.43"
      ]
     },
     "execution_count": 29,
     "metadata": {},
     "output_type": "execute_result"
    }
   ],
   "source": [
    "x1 = round(y2.x*beta2[1],2)\n",
    "x2 = np.sin(x1)\n",
    "\n",
    "y21 = pd.DataFrame({\"bias\":np.ones(226),\"x\":range(226), \"x1\":x1, \"x2\":x2, \"y\":data.StockPrice})\n",
    "y21.head(10)"
   ]
  },
  {
   "cell_type": "code",
   "execution_count": 31,
   "id": "7e37a281-b2fa-4490-a300-5241aa971eb2",
   "metadata": {},
   "outputs": [],
   "source": [
    "xx = np.array(y21[['bias', 'x1', 'x2']])\n",
    "yy = np.array(y2.y) "
   ]
  },
  {
   "cell_type": "code",
   "execution_count": 33,
   "id": "dad10646-284c-4fa2-99c7-88785a0cfc4a",
   "metadata": {},
   "outputs": [
    {
     "name": "stdout",
     "output_type": "stream",
     "text": [
      "Beta =  [2.74436632 1.00020159 4.82388129]\n",
      "SSE =  701.3625743495963\n"
     ]
    }
   ],
   "source": [
    "beta3 = estimateBeta(xx, yy)\n",
    "print(\"Beta = \", beta3)\n",
    "yhat3 = predict(beta3, xx)\n",
    "loss = SSE(yy, yhat3) #np.sum((np.matmul(xx,beta) - yy)**2)\n",
    "print(\"SSE = \", loss)"
   ]
  },
  {
   "cell_type": "code",
   "execution_count": 35,
   "id": "d200d805-54f7-4485-8808-2d602aeaf6f5",
   "metadata": {},
   "outputs": [
    {
     "data": {
      "text/plain": [
       "Text(0.5, 0, 'Time')"
      ]
     },
     "execution_count": 35,
     "metadata": {},
     "output_type": "execute_result"
    },
    {
     "data": {
      "image/png": "[encoded data removed]",
      "text/plain": [
       "<Figure size 640x480 with 1 Axes>"
      ]
     },
     "metadata": {},
     "output_type": "display_data"
    }
   ],
   "source": [
    "plt.plot(y2.x, y2.y, 'r+')\n",
    "plt.plot(y2.x, yhat3, 'b-')\n",
    "plt.ylabel('Stock Price')\n",
    "plt.xlabel('Time')"
   ]
  },
  {
   "cell_type": "code",
   "execution_count": 37,
   "id": "0662e3d2-2fd2-4911-99b6-cef1dddc9654",
   "metadata": {},
   "outputs": [
    {
     "name": "stdout",
     "output_type": "stream",
     "text": [
      "Beta= [2.74436632 1.00020159 4.82388129]\n",
      "SSE- 701.3625743495963\n"
     ]
    }
   ],
   "source": [
    "print(\"Beta=\",beta3)\n",
    "print(\"SSE-\",loss)"
   ]
  },
  {
   "cell_type": "markdown",
   "id": "49023ad2-7eb2-4b9f-8c46-1149dc5dc9dd",
   "metadata": {},
   "source": [
    "2. Implement a linear search (the single parameter search version of grid search) for m = tan θ,where θ in [0, 60] in steps of 5 degrees and measure the SSE at every choice of θ. Create a plot that shows SSE vs θ. Report the θ, that minimizes SSE.\n",
    "\n"
   ]
  },
  {
   "cell_type": "code",
   "execution_count": 40,
   "id": "47395816-2eee-4e17-9e03-5c4293ff0d68",
   "metadata": {},
   "outputs": [
    {
     "data": {
      "text/html": [
       "<div>\n",
       "<style scoped>\n",
       "    .dataframe tbody tr th:only-of-type {\n",
       "        vertical-align: middle;\n",
       "    }\n",
       "\n",
       "    .dataframe tbody tr th {\n",
       "        vertical-align: top;\n",
       "    }\n",
       "\n",
       "    .dataframe thead th {\n",
       "        text-align: right;\n",
       "    }\n",
       "</style>\n",
       "<table border=\"1\" class=\"dataframe\">\n",
       "  <thead>\n",
       "    <tr style=\"text-align: right;\">\n",
       "      <th></th>\n",
       "      <th>SpringPos</th>\n",
       "      <th>StockPrice</th>\n",
       "    </tr>\n",
       "  </thead>\n",
       "  <tbody>\n",
       "    <tr>\n",
       "      <th>0</th>\n",
       "      <td>2.27</td>\n",
       "      <td>3.48</td>\n",
       "    </tr>\n",
       "    <tr>\n",
       "      <th>1</th>\n",
       "      <td>6.38</td>\n",
       "      <td>2.99</td>\n",
       "    </tr>\n",
       "    <tr>\n",
       "      <th>2</th>\n",
       "      <td>8.61</td>\n",
       "      <td>5.86</td>\n",
       "    </tr>\n",
       "    <tr>\n",
       "      <th>3</th>\n",
       "      <td>8.65</td>\n",
       "      <td>1.79</td>\n",
       "    </tr>\n",
       "    <tr>\n",
       "      <th>4</th>\n",
       "      <td>13.17</td>\n",
       "      <td>3.47</td>\n",
       "    </tr>\n",
       "    <tr>\n",
       "      <th>...</th>\n",
       "      <td>...</td>\n",
       "      <td>...</td>\n",
       "    </tr>\n",
       "    <tr>\n",
       "      <th>221</th>\n",
       "      <td>1.37</td>\n",
       "      <td>25.14</td>\n",
       "    </tr>\n",
       "    <tr>\n",
       "      <th>222</th>\n",
       "      <td>2.29</td>\n",
       "      <td>22.65</td>\n",
       "    </tr>\n",
       "    <tr>\n",
       "      <th>223</th>\n",
       "      <td>1.80</td>\n",
       "      <td>21.04</td>\n",
       "    </tr>\n",
       "    <tr>\n",
       "      <th>224</th>\n",
       "      <td>0.82</td>\n",
       "      <td>20.98</td>\n",
       "    </tr>\n",
       "    <tr>\n",
       "      <th>225</th>\n",
       "      <td>0.59</td>\n",
       "      <td>20.30</td>\n",
       "    </tr>\n",
       "  </tbody>\n",
       "</table>\n",
       "<p>226 rows × 2 columns</p>\n",
       "</div>"
      ],
      "text/plain": [
       "     SpringPos  StockPrice\n",
       "0         2.27        3.48\n",
       "1         6.38        2.99\n",
       "2         8.61        5.86\n",
       "3         8.65        1.79\n",
       "4        13.17        3.47\n",
       "..         ...         ...\n",
       "221       1.37       25.14\n",
       "222       2.29       22.65\n",
       "223       1.80       21.04\n",
       "224       0.82       20.98\n",
       "225       0.59       20.30\n",
       "\n",
       "[226 rows x 2 columns]"
      ]
     },
     "execution_count": 40,
     "metadata": {},
     "output_type": "execute_result"
    }
   ],
   "source": [
    "data"
   ]
  },
  {
   "cell_type": "code",
   "execution_count": 42,
   "id": "a6cdbbc5-56f4-4001-859a-182801185a74",
   "metadata": {},
   "outputs": [
    {
     "data": {
      "text/plain": [
       "<bound method NDFrame.head of        x      y\n",
       "0      0   3.48\n",
       "1      1   2.99\n",
       "2      2   5.86\n",
       "3      3   1.79\n",
       "4      4   3.47\n",
       "..   ...    ...\n",
       "221  221  25.14\n",
       "222  222  22.65\n",
       "223  223  21.04\n",
       "224  224  20.98\n",
       "225  225  20.30\n",
       "\n",
       "[226 rows x 2 columns]>"
      ]
     },
     "execution_count": 42,
     "metadata": {},
     "output_type": "execute_result"
    }
   ],
   "source": [
    "import numpy as np\n",
    "import matplotlib.pyplot as plt\n",
    "y2 = pd.DataFrame({\"x\":range(226), \"y\":data.StockPrice})\n",
    "\n",
    "y2.head"
   ]
  },
  {
   "cell_type": "code",
   "execution_count": 44,
   "id": "84de5e18-8632-4cb6-aa61-8f4c7f3bfbc6",
   "metadata": {},
   "outputs": [
    {
     "data": {
      "image/png": "[encoded data removed]",
      "text/plain": [
       "<Figure size 640x480 with 1 Axes>"
      ]
     },
     "metadata": {},
     "output_type": "display_data"
    },
    {
     "data": {
      "text/plain": [
       "(5, 7644.253463286041)"
      ]
     },
     "execution_count": 44,
     "metadata": {},
     "output_type": "execute_result"
    }
   ],
   "source": [
    "# Define the SSE function\n",
    "def compute_sse(m, x, y):\n",
    "    # SSE = Sum of Squared Errors\n",
    "    y_pred = m * x\n",
    "    sse = np.sum((y - y_pred) ** 2)\n",
    "    return sse\n",
    "\n",
    "# Generate range of theta values from 0 to 60 degrees in steps of 5 degrees\n",
    "theta_values = np.arange(0, 65, 5)\n",
    "sse_values = []\n",
    "\n",
    "# Linear search through theta values\n",
    "for theta in theta_values:\n",
    "    m = np.tan(np.radians(theta))  # Convert theta to radians and compute m = tan(theta)\n",
    "    sse = compute_sse(m, y2.x, y2.y)\n",
    "    sse_values.append(sse)\n",
    "\n",
    "# Find the theta that minimizes SSE\n",
    "min_sse = min(sse_values)\n",
    "min_theta = theta_values[sse_values.index(min_sse)]\n",
    "\n",
    "# Plot SSE vs. theta\n",
    "plt.plot(theta_values, sse_values, marker='o')\n",
    "plt.xlabel(r'$\\theta$ (degrees)')\n",
    "plt.ylabel('SSE')\n",
    "plt.title('SSE vs. θ')\n",
    "plt.grid(True)\n",
    "plt.show()\n",
    "\n",
    "# Report the theta that minimizes SSE\n",
    "min_theta, min_sse\n"
   ]
  },
  {
   "cell_type": "code",
   "execution_count": 46,
   "id": "f0c2157a-2192-4bca-a223-e65291d219c4",
   "metadata": {},
   "outputs": [
    {
     "name": "stdout",
     "output_type": "stream",
     "text": [
      "min theta= 5\n",
      "Min SSE= 7644.253463286041\n"
     ]
    }
   ],
   "source": [
    "print(\"min theta=\",min_theta)\n",
    "print(\"Min SSE=\",min_sse)"
   ]
  },
  {
   "cell_type": "markdown",
   "id": "21152a5e-37d6-441c-ac78-cd86700ccecb",
   "metadata": {},
   "source": [
    "3. Implement the solution using sklearn’s LinearRegression class."
   ]
  },
  {
   "cell_type": "code",
   "execution_count": 49,
   "id": "c2fb1416-283a-4a57-9c85-4c88842f3076",
   "metadata": {},
   "outputs": [
    {
     "data": {
      "text/html": [
       "<div>\n",
       "<style scoped>\n",
       "    .dataframe tbody tr th:only-of-type {\n",
       "        vertical-align: middle;\n",
       "    }\n",
       "\n",
       "    .dataframe tbody tr th {\n",
       "        vertical-align: top;\n",
       "    }\n",
       "\n",
       "    .dataframe thead th {\n",
       "        text-align: right;\n",
       "    }\n",
       "</style>\n",
       "<table border=\"1\" class=\"dataframe\">\n",
       "  <thead>\n",
       "    <tr style=\"text-align: right;\">\n",
       "      <th></th>\n",
       "      <th>bias</th>\n",
       "      <th>x</th>\n",
       "      <th>x1</th>\n",
       "      <th>y</th>\n",
       "    </tr>\n",
       "  </thead>\n",
       "  <tbody>\n",
       "    <tr>\n",
       "      <th>0</th>\n",
       "      <td>1.0</td>\n",
       "      <td>0</td>\n",
       "      <td>0.00</td>\n",
       "      <td>3.48</td>\n",
       "    </tr>\n",
       "    <tr>\n",
       "      <th>1</th>\n",
       "      <td>1.0</td>\n",
       "      <td>1</td>\n",
       "      <td>0.10</td>\n",
       "      <td>2.99</td>\n",
       "    </tr>\n",
       "    <tr>\n",
       "      <th>2</th>\n",
       "      <td>1.0</td>\n",
       "      <td>2</td>\n",
       "      <td>0.20</td>\n",
       "      <td>5.86</td>\n",
       "    </tr>\n",
       "    <tr>\n",
       "      <th>3</th>\n",
       "      <td>1.0</td>\n",
       "      <td>3</td>\n",
       "      <td>0.29</td>\n",
       "      <td>1.79</td>\n",
       "    </tr>\n",
       "    <tr>\n",
       "      <th>4</th>\n",
       "      <td>1.0</td>\n",
       "      <td>4</td>\n",
       "      <td>0.39</td>\n",
       "      <td>3.47</td>\n",
       "    </tr>\n",
       "    <tr>\n",
       "      <th>5</th>\n",
       "      <td>1.0</td>\n",
       "      <td>5</td>\n",
       "      <td>0.49</td>\n",
       "      <td>7.73</td>\n",
       "    </tr>\n",
       "    <tr>\n",
       "      <th>6</th>\n",
       "      <td>1.0</td>\n",
       "      <td>6</td>\n",
       "      <td>0.59</td>\n",
       "      <td>7.83</td>\n",
       "    </tr>\n",
       "    <tr>\n",
       "      <th>7</th>\n",
       "      <td>1.0</td>\n",
       "      <td>7</td>\n",
       "      <td>0.68</td>\n",
       "      <td>4.70</td>\n",
       "    </tr>\n",
       "    <tr>\n",
       "      <th>8</th>\n",
       "      <td>1.0</td>\n",
       "      <td>8</td>\n",
       "      <td>0.78</td>\n",
       "      <td>8.97</td>\n",
       "    </tr>\n",
       "    <tr>\n",
       "      <th>9</th>\n",
       "      <td>1.0</td>\n",
       "      <td>9</td>\n",
       "      <td>0.88</td>\n",
       "      <td>8.43</td>\n",
       "    </tr>\n",
       "  </tbody>\n",
       "</table>\n",
       "</div>"
      ],
      "text/plain": [
       "   bias  x    x1     y\n",
       "0   1.0  0  0.00  3.48\n",
       "1   1.0  1  0.10  2.99\n",
       "2   1.0  2  0.20  5.86\n",
       "3   1.0  3  0.29  1.79\n",
       "4   1.0  4  0.39  3.47\n",
       "5   1.0  5  0.49  7.73\n",
       "6   1.0  6  0.59  7.83\n",
       "7   1.0  7  0.68  4.70\n",
       "8   1.0  8  0.78  8.97\n",
       "9   1.0  9  0.88  8.43"
      ]
     },
     "execution_count": 49,
     "metadata": {},
     "output_type": "execute_result"
    }
   ],
   "source": [
    "x1 = round(y2.x*beta2[1],2)\n",
    "\n",
    "y21 = pd.DataFrame({\"bias\":np.ones(226),\"x\":range(226), \"x1\":x1, \"y\":data.StockPrice})\n",
    "y21.head(10)"
   ]
  },
  {
   "cell_type": "code",
   "execution_count": 51,
   "id": "59d9114d-ae71-4a4c-879c-e8841af9bcf9",
   "metadata": {},
   "outputs": [],
   "source": [
    "xx = np.array(y21[['x1']])\n",
    "yy = np.array(y2.y) "
   ]
  },
  {
   "cell_type": "code",
   "execution_count": 53,
   "id": "c7e172f4-8313-4fe5-bd53-655905aa4c87",
   "metadata": {},
   "outputs": [],
   "source": [
    "from sklearn.preprocessing import PolynomialFeatures\n",
    "poly_transformer = PolynomialFeatures(degree = 13)   # 10, 11\n",
    "X_poly = poly_transformer.fit_transform(xx)"
   ]
  },
  {
   "cell_type": "code",
   "execution_count": 55,
   "id": "0ca4266f-e379-4631-8823-4e1126658fef",
   "metadata": {},
   "outputs": [
    {
     "name": "stdout",
     "output_type": "stream",
     "text": [
      "Intercept= 8.04081041072586 Beta =  [ 0.00000000e+00 -4.27752653e-03 -9.24355519e-03 -2.80936286e-02\n",
      " -6.08559039e-02 -6.30112612e-02  5.36541254e-02 -1.51630216e-02\n",
      "  2.25561111e-03 -2.00044939e-04  1.09731375e-05 -3.66050445e-07\n",
      "  6.81922072e-09 -5.44865103e-11]\n",
      "SSE =  701.492606538046\n"
     ]
    }
   ],
   "source": [
    "from sklearn.linear_model import LinearRegression\n",
    "model = LinearRegression().fit(X_poly, yy)\n",
    "print(\"Intercept=\", model.intercept_, \"Beta = \", model.coef_)\n",
    "yhat4 = model.predict(X_poly)\n",
    "\n",
    "#beta4 = estimateBeta(X_poly, yy)\n",
    "#print(\"Beta = \", beta4)\n",
    "#yhat4 = predict(beta4, X_poly)\n",
    "\n",
    "loss = SSE(yy, yhat4)\n",
    "print(\"SSE = \", loss)"
   ]
  },
  {
   "cell_type": "code",
   "execution_count": 57,
   "id": "7d60a558-c8e5-4288-9bb8-57a68ec521b5",
   "metadata": {},
   "outputs": [
    {
     "data": {
      "image/png": "[encoded data removed]",
      "text/plain": [
       "<Figure size 640x480 with 1 Axes>"
      ]
     },
     "metadata": {},
     "output_type": "display_data"
    }
   ],
   "source": [
    "plt.plot(y2.x, y2.y, 'r+')\n",
    "plt.plot(y2.x, yhat4, 'b-')\n",
    "plt.ylabel('Stock Price')\n",
    "plt.xlabel('Time')\n",
    "plt.legend(['Price', 'OLS'], loc='upper left')\n",
    "plt.show()"
   ]
  },
  {
   "cell_type": "code",
   "execution_count": 59,
   "id": "03f4d63c-31e2-41f8-9f21-002eeff4980f",
   "metadata": {},
   "outputs": [
    {
     "name": "stdout",
     "output_type": "stream",
     "text": [
      "Beta = [ 0.00000000e+00  0.00000000e+00  0.00000000e+00  0.00000000e+00\n",
      "  1.33364057e-03 -1.93973578e-05 -5.83576330e-06 -3.92299576e-09\n",
      "  4.60645389e-09  2.56623939e-10  8.92165219e-12  1.45707923e-13\n",
      " -8.26407686e-15 -1.08757016e-15]\n",
      "SSE = 2575.745060377614\n"
     ]
    },
    {
     "name": "stderr",
     "output_type": "stream",
     "text": [
      "/home/rajnish/anaconda3/lib/python3.12/site-packages/sklearn/linear_model/_coordinate_descent.py:678: ConvergenceWarning: Objective did not converge. You might want to increase the number of iterations, check the scale of the features or consider increasing regularisation. Duality gap: 1.441e+03, tolerance: 1.248e+00\n",
      "  model = cd_fast.enet_coordinate_descent(\n"
     ]
    }
   ],
   "source": [
    "from sklearn.linear_model import Lasso, Ridge\n",
    "model5 = Lasso(alpha=500, max_iter=50000).fit(X_poly, yy)\n",
    "#model5 = Ridge(alpha=5220).fit(X_poly,yy)\n",
    "print(\"Beta =\", model5.coef_)\n",
    "yhat5 = model5.predict(X_poly)\n",
    "loss = SSE(yy, yhat5)\n",
    "print(\"SSE =\", loss)"
   ]
  },
  {
   "cell_type": "code",
   "execution_count": 61,
   "id": "3af8bbdd-467e-4d65-a3f7-f0d5ae2fecd6",
   "metadata": {},
   "outputs": [
    {
     "data": {
      "image/png": "[encoded data removed]",
      "text/plain": [
       "<Figure size 640x480 with 1 Axes>"
      ]
     },
     "metadata": {},
     "output_type": "display_data"
    }
   ],
   "source": [
    "plt.ylabel('Stock Price')\n",
    "plt.xlabel('Time')\n",
    "plt.plot(y2.x, y2.y, 'r+')\n",
    "plt.plot(y2.x, yhat2, 'b-')\n",
    "plt.plot(y2.x, yhat4, 'g-')\n",
    "plt.plot(y2.x, yhat5, '--')\n",
    "# plt.plot(y2.x, yhat3, 'k')\n",
    "plt.legend(['Stock Price', 'OLS', 'Using tan theta', 'Linear Regression','Polynomial + Lasso'], loc='upper left')\n",
    "plt.show()"
   ]
  },
  {
   "cell_type": "markdown",
   "id": "82830485-735c-47ca-bdb1-6a8ced3fbea1",
   "metadata": {},
   "source": [
    "# Task 2 (Stock Price Dataset)"
   ]
  },
  {
   "cell_type": "markdown",
   "id": "7230723f-882d-4916-baf5-60d22f936bcd",
   "metadata": {},
   "source": [
    "You will notice that the linear model is an ok fit for the y2. What should be the mathematical model of stock price dataset? If you notice the periodicity in the data, you should factor that in your mathematical model using an appropriate function that’s periodic. The challenge here is; the trend of the magnitude is also increasing, which you confirmed in your previous task. So, the math model should consider both properties."
   ]
  },
  {
   "cell_type": "markdown",
   "id": "6d43c6e8-f7d1-429b-9350-71d67938cc03",
   "metadata": {},
   "source": [
    "1. Split your data into Train, Eval & Test.\n",
    "   #i. Interpolation: When you randomly split the data into train, eval and test; your test and evaluation data points may be inside the data range (time range). When you can predict those points correctly, you are essentially recovering missing data in the regression line.This is also called the interpolation problem.\n",
    "   ii. Extrapolation: In this scenario, the test and eval points should be outside the time range of the training data. If your model is a good fit, and when you predict the data point outside the range, you are essentially extrapolating the regression line. This is also called the “Forecasting” task.\n",
    "   "
   ]
  },
  {
   "cell_type": "code",
   "execution_count": 66,
   "id": "7f67360c-4b1e-4f5c-9c4f-e3150732be3f",
   "metadata": {},
   "outputs": [
    {
     "data": {
      "text/html": [
       "<div>\n",
       "<style scoped>\n",
       "    .dataframe tbody tr th:only-of-type {\n",
       "        vertical-align: middle;\n",
       "    }\n",
       "\n",
       "    .dataframe tbody tr th {\n",
       "        vertical-align: top;\n",
       "    }\n",
       "\n",
       "    .dataframe thead th {\n",
       "        text-align: right;\n",
       "    }\n",
       "</style>\n",
       "<table border=\"1\" class=\"dataframe\">\n",
       "  <thead>\n",
       "    <tr style=\"text-align: right;\">\n",
       "      <th></th>\n",
       "      <th>SpringPos</th>\n",
       "      <th>StockPrice</th>\n",
       "    </tr>\n",
       "  </thead>\n",
       "  <tbody>\n",
       "    <tr>\n",
       "      <th>0</th>\n",
       "      <td>2.27</td>\n",
       "      <td>3.48</td>\n",
       "    </tr>\n",
       "    <tr>\n",
       "      <th>1</th>\n",
       "      <td>6.38</td>\n",
       "      <td>2.99</td>\n",
       "    </tr>\n",
       "    <tr>\n",
       "      <th>2</th>\n",
       "      <td>8.61</td>\n",
       "      <td>5.86</td>\n",
       "    </tr>\n",
       "    <tr>\n",
       "      <th>3</th>\n",
       "      <td>8.65</td>\n",
       "      <td>1.79</td>\n",
       "    </tr>\n",
       "    <tr>\n",
       "      <th>4</th>\n",
       "      <td>13.17</td>\n",
       "      <td>3.47</td>\n",
       "    </tr>\n",
       "    <tr>\n",
       "      <th>...</th>\n",
       "      <td>...</td>\n",
       "      <td>...</td>\n",
       "    </tr>\n",
       "    <tr>\n",
       "      <th>221</th>\n",
       "      <td>1.37</td>\n",
       "      <td>25.14</td>\n",
       "    </tr>\n",
       "    <tr>\n",
       "      <th>222</th>\n",
       "      <td>2.29</td>\n",
       "      <td>22.65</td>\n",
       "    </tr>\n",
       "    <tr>\n",
       "      <th>223</th>\n",
       "      <td>1.80</td>\n",
       "      <td>21.04</td>\n",
       "    </tr>\n",
       "    <tr>\n",
       "      <th>224</th>\n",
       "      <td>0.82</td>\n",
       "      <td>20.98</td>\n",
       "    </tr>\n",
       "    <tr>\n",
       "      <th>225</th>\n",
       "      <td>0.59</td>\n",
       "      <td>20.30</td>\n",
       "    </tr>\n",
       "  </tbody>\n",
       "</table>\n",
       "<p>226 rows × 2 columns</p>\n",
       "</div>"
      ],
      "text/plain": [
       "     SpringPos  StockPrice\n",
       "0         2.27        3.48\n",
       "1         6.38        2.99\n",
       "2         8.61        5.86\n",
       "3         8.65        1.79\n",
       "4        13.17        3.47\n",
       "..         ...         ...\n",
       "221       1.37       25.14\n",
       "222       2.29       22.65\n",
       "223       1.80       21.04\n",
       "224       0.82       20.98\n",
       "225       0.59       20.30\n",
       "\n",
       "[226 rows x 2 columns]"
      ]
     },
     "execution_count": 66,
     "metadata": {},
     "output_type": "execute_result"
    }
   ],
   "source": [
    "data"
   ]
  },
  {
   "cell_type": "code",
   "execution_count": 68,
   "id": "cd4f2c03-fb92-4240-8dc1-465246b9d3ba",
   "metadata": {},
   "outputs": [],
   "source": [
    "df = pd.DataFrame({\"bias\":np.ones(226), \"x\":range(226), \"y\":data.StockPrice})"
   ]
  },
  {
   "cell_type": "code",
   "execution_count": 70,
   "id": "cf13e34c-8835-492e-b8c3-ceff4f18aa6a",
   "metadata": {},
   "outputs": [
    {
     "data": {
      "text/html": [
       "<div>\n",
       "<style scoped>\n",
       "    .dataframe tbody tr th:only-of-type {\n",
       "        vertical-align: middle;\n",
       "    }\n",
       "\n",
       "    .dataframe tbody tr th {\n",
       "        vertical-align: top;\n",
       "    }\n",
       "\n",
       "    .dataframe thead th {\n",
       "        text-align: right;\n",
       "    }\n",
       "</style>\n",
       "<table border=\"1\" class=\"dataframe\">\n",
       "  <thead>\n",
       "    <tr style=\"text-align: right;\">\n",
       "      <th></th>\n",
       "      <th>bias</th>\n",
       "      <th>x</th>\n",
       "      <th>y</th>\n",
       "    </tr>\n",
       "  </thead>\n",
       "  <tbody>\n",
       "    <tr>\n",
       "      <th>0</th>\n",
       "      <td>1.0</td>\n",
       "      <td>0</td>\n",
       "      <td>3.48</td>\n",
       "    </tr>\n",
       "    <tr>\n",
       "      <th>1</th>\n",
       "      <td>1.0</td>\n",
       "      <td>1</td>\n",
       "      <td>2.99</td>\n",
       "    </tr>\n",
       "    <tr>\n",
       "      <th>2</th>\n",
       "      <td>1.0</td>\n",
       "      <td>2</td>\n",
       "      <td>5.86</td>\n",
       "    </tr>\n",
       "    <tr>\n",
       "      <th>3</th>\n",
       "      <td>1.0</td>\n",
       "      <td>3</td>\n",
       "      <td>1.79</td>\n",
       "    </tr>\n",
       "    <tr>\n",
       "      <th>4</th>\n",
       "      <td>1.0</td>\n",
       "      <td>4</td>\n",
       "      <td>3.47</td>\n",
       "    </tr>\n",
       "    <tr>\n",
       "      <th>...</th>\n",
       "      <td>...</td>\n",
       "      <td>...</td>\n",
       "      <td>...</td>\n",
       "    </tr>\n",
       "    <tr>\n",
       "      <th>221</th>\n",
       "      <td>1.0</td>\n",
       "      <td>221</td>\n",
       "      <td>25.14</td>\n",
       "    </tr>\n",
       "    <tr>\n",
       "      <th>222</th>\n",
       "      <td>1.0</td>\n",
       "      <td>222</td>\n",
       "      <td>22.65</td>\n",
       "    </tr>\n",
       "    <tr>\n",
       "      <th>223</th>\n",
       "      <td>1.0</td>\n",
       "      <td>223</td>\n",
       "      <td>21.04</td>\n",
       "    </tr>\n",
       "    <tr>\n",
       "      <th>224</th>\n",
       "      <td>1.0</td>\n",
       "      <td>224</td>\n",
       "      <td>20.98</td>\n",
       "    </tr>\n",
       "    <tr>\n",
       "      <th>225</th>\n",
       "      <td>1.0</td>\n",
       "      <td>225</td>\n",
       "      <td>20.30</td>\n",
       "    </tr>\n",
       "  </tbody>\n",
       "</table>\n",
       "<p>226 rows × 3 columns</p>\n",
       "</div>"
      ],
      "text/plain": [
       "     bias    x      y\n",
       "0     1.0    0   3.48\n",
       "1     1.0    1   2.99\n",
       "2     1.0    2   5.86\n",
       "3     1.0    3   1.79\n",
       "4     1.0    4   3.47\n",
       "..    ...  ...    ...\n",
       "221   1.0  221  25.14\n",
       "222   1.0  222  22.65\n",
       "223   1.0  223  21.04\n",
       "224   1.0  224  20.98\n",
       "225   1.0  225  20.30\n",
       "\n",
       "[226 rows x 3 columns]"
      ]
     },
     "execution_count": 70,
     "metadata": {},
     "output_type": "execute_result"
    }
   ],
   "source": [
    "df"
   ]
  },
  {
   "cell_type": "code",
   "execution_count": 71,
   "id": "625a5ae0-0617-449a-ba68-e84f80f35679",
   "metadata": {},
   "outputs": [],
   "source": [
    "yy = np.array(df.y) \n",
    "xx = np.array(df[[\"bias\",\"x\"]])"
   ]
  },
  {
   "cell_type": "code",
   "execution_count": 72,
   "id": "bb73e631-a369-445e-8bda-5183090c7c95",
   "metadata": {},
   "outputs": [
    {
     "data": {
      "text/plain": [
       "array([[  1.,   0.],\n",
       "       [  1.,   1.],\n",
       "       [  1.,   2.],\n",
       "       [  1.,   3.],\n",
       "       [  1.,   4.],\n",
       "       [  1.,   5.],\n",
       "       [  1.,   6.],\n",
       "       [  1.,   7.],\n",
       "       [  1.,   8.],\n",
       "       [  1.,   9.],\n",
       "       [  1.,  10.],\n",
       "       [  1.,  11.],\n",
       "       [  1.,  12.],\n",
       "       [  1.,  13.],\n",
       "       [  1.,  14.],\n",
       "       [  1.,  15.],\n",
       "       [  1.,  16.],\n",
       "       [  1.,  17.],\n",
       "       [  1.,  18.],\n",
       "       [  1.,  19.],\n",
       "       [  1.,  20.],\n",
       "       [  1.,  21.],\n",
       "       [  1.,  22.],\n",
       "       [  1.,  23.],\n",
       "       [  1.,  24.],\n",
       "       [  1.,  25.],\n",
       "       [  1.,  26.],\n",
       "       [  1.,  27.],\n",
       "       [  1.,  28.],\n",
       "       [  1.,  29.],\n",
       "       [  1.,  30.],\n",
       "       [  1.,  31.],\n",
       "       [  1.,  32.],\n",
       "       [  1.,  33.],\n",
       "       [  1.,  34.],\n",
       "       [  1.,  35.],\n",
       "       [  1.,  36.],\n",
       "       [  1.,  37.],\n",
       "       [  1.,  38.],\n",
       "       [  1.,  39.],\n",
       "       [  1.,  40.],\n",
       "       [  1.,  41.],\n",
       "       [  1.,  42.],\n",
       "       [  1.,  43.],\n",
       "       [  1.,  44.],\n",
       "       [  1.,  45.],\n",
       "       [  1.,  46.],\n",
       "       [  1.,  47.],\n",
       "       [  1.,  48.],\n",
       "       [  1.,  49.],\n",
       "       [  1.,  50.],\n",
       "       [  1.,  51.],\n",
       "       [  1.,  52.],\n",
       "       [  1.,  53.],\n",
       "       [  1.,  54.],\n",
       "       [  1.,  55.],\n",
       "       [  1.,  56.],\n",
       "       [  1.,  57.],\n",
       "       [  1.,  58.],\n",
       "       [  1.,  59.],\n",
       "       [  1.,  60.],\n",
       "       [  1.,  61.],\n",
       "       [  1.,  62.],\n",
       "       [  1.,  63.],\n",
       "       [  1.,  64.],\n",
       "       [  1.,  65.],\n",
       "       [  1.,  66.],\n",
       "       [  1.,  67.],\n",
       "       [  1.,  68.],\n",
       "       [  1.,  69.],\n",
       "       [  1.,  70.],\n",
       "       [  1.,  71.],\n",
       "       [  1.,  72.],\n",
       "       [  1.,  73.],\n",
       "       [  1.,  74.],\n",
       "       [  1.,  75.],\n",
       "       [  1.,  76.],\n",
       "       [  1.,  77.],\n",
       "       [  1.,  78.],\n",
       "       [  1.,  79.],\n",
       "       [  1.,  80.],\n",
       "       [  1.,  81.],\n",
       "       [  1.,  82.],\n",
       "       [  1.,  83.],\n",
       "       [  1.,  84.],\n",
       "       [  1.,  85.],\n",
       "       [  1.,  86.],\n",
       "       [  1.,  87.],\n",
       "       [  1.,  88.],\n",
       "       [  1.,  89.],\n",
       "       [  1.,  90.],\n",
       "       [  1.,  91.],\n",
       "       [  1.,  92.],\n",
       "       [  1.,  93.],\n",
       "       [  1.,  94.],\n",
       "       [  1.,  95.],\n",
       "       [  1.,  96.],\n",
       "       [  1.,  97.],\n",
       "       [  1.,  98.],\n",
       "       [  1.,  99.],\n",
       "       [  1., 100.],\n",
       "       [  1., 101.],\n",
       "       [  1., 102.],\n",
       "       [  1., 103.],\n",
       "       [  1., 104.],\n",
       "       [  1., 105.],\n",
       "       [  1., 106.],\n",
       "       [  1., 107.],\n",
       "       [  1., 108.],\n",
       "       [  1., 109.],\n",
       "       [  1., 110.],\n",
       "       [  1., 111.],\n",
       "       [  1., 112.],\n",
       "       [  1., 113.],\n",
       "       [  1., 114.],\n",
       "       [  1., 115.],\n",
       "       [  1., 116.],\n",
       "       [  1., 117.],\n",
       "       [  1., 118.],\n",
       "       [  1., 119.],\n",
       "       [  1., 120.],\n",
       "       [  1., 121.],\n",
       "       [  1., 122.],\n",
       "       [  1., 123.],\n",
       "       [  1., 124.],\n",
       "       [  1., 125.],\n",
       "       [  1., 126.],\n",
       "       [  1., 127.],\n",
       "       [  1., 128.],\n",
       "       [  1., 129.],\n",
       "       [  1., 130.],\n",
       "       [  1., 131.],\n",
       "       [  1., 132.],\n",
       "       [  1., 133.],\n",
       "       [  1., 134.],\n",
       "       [  1., 135.],\n",
       "       [  1., 136.],\n",
       "       [  1., 137.],\n",
       "       [  1., 138.],\n",
       "       [  1., 139.],\n",
       "       [  1., 140.],\n",
       "       [  1., 141.],\n",
       "       [  1., 142.],\n",
       "       [  1., 143.],\n",
       "       [  1., 144.],\n",
       "       [  1., 145.],\n",
       "       [  1., 146.],\n",
       "       [  1., 147.],\n",
       "       [  1., 148.],\n",
       "       [  1., 149.],\n",
       "       [  1., 150.],\n",
       "       [  1., 151.],\n",
       "       [  1., 152.],\n",
       "       [  1., 153.],\n",
       "       [  1., 154.],\n",
       "       [  1., 155.],\n",
       "       [  1., 156.],\n",
       "       [  1., 157.],\n",
       "       [  1., 158.],\n",
       "       [  1., 159.],\n",
       "       [  1., 160.],\n",
       "       [  1., 161.],\n",
       "       [  1., 162.],\n",
       "       [  1., 163.],\n",
       "       [  1., 164.],\n",
       "       [  1., 165.],\n",
       "       [  1., 166.],\n",
       "       [  1., 167.],\n",
       "       [  1., 168.],\n",
       "       [  1., 169.],\n",
       "       [  1., 170.],\n",
       "       [  1., 171.],\n",
       "       [  1., 172.],\n",
       "       [  1., 173.],\n",
       "       [  1., 174.],\n",
       "       [  1., 175.],\n",
       "       [  1., 176.],\n",
       "       [  1., 177.],\n",
       "       [  1., 178.],\n",
       "       [  1., 179.],\n",
       "       [  1., 180.],\n",
       "       [  1., 181.],\n",
       "       [  1., 182.],\n",
       "       [  1., 183.],\n",
       "       [  1., 184.],\n",
       "       [  1., 185.],\n",
       "       [  1., 186.],\n",
       "       [  1., 187.],\n",
       "       [  1., 188.],\n",
       "       [  1., 189.],\n",
       "       [  1., 190.],\n",
       "       [  1., 191.],\n",
       "       [  1., 192.],\n",
       "       [  1., 193.],\n",
       "       [  1., 194.],\n",
       "       [  1., 195.],\n",
       "       [  1., 196.],\n",
       "       [  1., 197.],\n",
       "       [  1., 198.],\n",
       "       [  1., 199.],\n",
       "       [  1., 200.],\n",
       "       [  1., 201.],\n",
       "       [  1., 202.],\n",
       "       [  1., 203.],\n",
       "       [  1., 204.],\n",
       "       [  1., 205.],\n",
       "       [  1., 206.],\n",
       "       [  1., 207.],\n",
       "       [  1., 208.],\n",
       "       [  1., 209.],\n",
       "       [  1., 210.],\n",
       "       [  1., 211.],\n",
       "       [  1., 212.],\n",
       "       [  1., 213.],\n",
       "       [  1., 214.],\n",
       "       [  1., 215.],\n",
       "       [  1., 216.],\n",
       "       [  1., 217.],\n",
       "       [  1., 218.],\n",
       "       [  1., 219.],\n",
       "       [  1., 220.],\n",
       "       [  1., 221.],\n",
       "       [  1., 222.],\n",
       "       [  1., 223.],\n",
       "       [  1., 224.],\n",
       "       [  1., 225.]])"
      ]
     },
     "execution_count": 72,
     "metadata": {},
     "output_type": "execute_result"
    }
   ],
   "source": [
    "xx"
   ]
  },
  {
   "cell_type": "code",
   "execution_count": 75,
   "id": "985f358c-e640-43b7-8aa6-c0a3c92a4991",
   "metadata": {},
   "outputs": [],
   "source": [
    "from sklearn.model_selection import train_test_split\n",
    "import numpy as np\n",
    "X_train,X_test,Y_train,Y_test=train_test_split(xx, yy, test_size=0.2, random_state=42)"
   ]
  },
  {
   "cell_type": "code",
   "execution_count": 77,
   "id": "5d98f993-4b59-4b72-928a-7b632de74b92",
   "metadata": {},
   "outputs": [],
   "source": [
    "X_train,X_val,Y_train,Y_val=train_test_split(X_train, Y_train, test_size=0.2, random_state=42)"
   ]
  },
  {
   "cell_type": "markdown",
   "id": "7b520254-ea77-4f15-b554-4699d5dbca01",
   "metadata": {},
   "source": [
    "2. Implement the regression model (OLS or LinearRegression or equivalent) using appropriate feature transformation so that the SSE is lower than that of Task 1."
   ]
  },
  {
   "cell_type": "code",
   "execution_count": 81,
   "id": "8362ae57-bc0a-4589-9d3d-eaa8dbe49b8e",
   "metadata": {},
   "outputs": [],
   "source": [
    "# estimate the value of the beta vector assuming that X is made of independent features.\n",
    "def estimateBeta(X, y):\n",
    "    numerator = np.matmul(np.transpose(X), y)\n",
    "    denom = np.matmul(np.transpose(X), X)\n",
    "    denom_inv = np.linalg.inv(denom)\n",
    "    beta = np.matmul(denom_inv, numerator)\n",
    "    return beta\n",
    "\n",
    "# create a helper that would estimate yhat from X and beta.\n",
    "def predict(beta, X):\n",
    "    # reshape the input to a matrix, if it is appearing like an 1d array.\n",
    "    if len(X.shape) != 2:\n",
    "        X = np.expand_dims(X,1)\n",
    "    # convert the beta list in to an array.\n",
    "    beta = np.array(beta)\n",
    "    # perform estimation of yhat.\n",
    "    return np.matmul(X, beta)\n",
    "\n",
    "# compute the sum of squared error between y and yhat.\n",
    "def SSE(y, yhat):\n",
    "    return np.sum((y-yhat)**2)"
   ]
  },
  {
   "cell_type": "code",
   "execution_count": 82,
   "id": "07395a55-9b81-4edd-8fd2-cc40e532a827",
   "metadata": {},
   "outputs": [
    {
     "name": "stdout",
     "output_type": "stream",
     "text": [
      "beta = [3.13308724 0.09980176]\n",
      "SSE = 3284.8250121352517\n"
     ]
    }
   ],
   "source": [
    "beta2 = estimateBeta(X_train, Y_train)\n",
    "print(\"beta =\", beta2)\n",
    "yhat2 = predict(beta2, xx)\n",
    "loss = SSE(yy, yhat2)\n",
    "print(\"SSE =\", loss)"
   ]
  },
  {
   "cell_type": "markdown",
   "id": "14016167-28ad-4ba3-afb3-2eba3eb50090",
   "metadata": {},
   "source": [
    "3. Train the regression model for interpolation and evaluate the SSE."
   ]
  },
  {
   "cell_type": "code",
   "execution_count": 86,
   "id": "68d84af0-b6f5-4c31-83a9-2efdc1f045e2",
   "metadata": {},
   "outputs": [
    {
     "name": "stdout",
     "output_type": "stream",
     "text": [
      "beta = [3.13308724 0.09980176]\n",
      "SSE = 717.7000995604858\n"
     ]
    }
   ],
   "source": [
    "beta2 = estimateBeta(X_train, Y_train)\n",
    "print(\"beta =\", beta2)\n",
    "yhat2 = predict(beta2, X_test)\n",
    "loss = SSE(Y_test, yhat2)\n",
    "print(\"SSE =\", loss)"
   ]
  },
  {
   "cell_type": "markdown",
   "id": "c9e37952-b0d7-41f0-a4f7-bbeba4f742aa",
   "metadata": {},
   "source": [
    "4. Train the regression model for extrapolation and evaluate the SSE."
   ]
  },
  {
   "cell_type": "code",
   "execution_count": 89,
   "id": "12692e50-eb6f-4e94-9509-9b66b098eb43",
   "metadata": {},
   "outputs": [
    {
     "name": "stdout",
     "output_type": "stream",
     "text": [
      "beta = [3.13308724 0.09980176]\n",
      "SSE = 619.7045184627486\n"
     ]
    }
   ],
   "source": [
    "beta2 = estimateBeta(X_train, Y_train)\n",
    "print(\"beta =\", beta2)\n",
    "yhat2 = predict(beta2, X_val)\n",
    "loss = SSE(Y_val, yhat2)\n",
    "print(\"SSE =\", loss)"
   ]
  },
  {
   "cell_type": "code",
   "execution_count": null,
   "id": "2aad480f-d6b9-4f01-b98a-2273684dcc08",
   "metadata": {},
   "outputs": [],
   "source": []
  }
 ],
 "metadata": {
  "kernelspec": {
   "display_name": "Python 3 (ipykernel)",
   "language": "python",
   "name": "python3"
  },
  "language_info": {
   "codemirror_mode": {
    "name": "ipython",
    "version": 3
   },
   "file_extension": ".py",
   "mimetype": "text/x-python",
   "name": "python",
   "nbconvert_exporter": "python",
   "pygments_lexer": "ipython3",
   "version": "3.12.4"
  }
 },
 "nbformat": 4,
 "nbformat_minor": 5
}
