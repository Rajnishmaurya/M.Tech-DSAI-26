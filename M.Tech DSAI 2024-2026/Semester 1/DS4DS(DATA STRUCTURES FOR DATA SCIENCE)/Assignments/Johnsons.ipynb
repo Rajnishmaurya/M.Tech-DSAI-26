{
 "cells": [
  {
   "cell_type": "code",
   "execution_count": 1,
   "metadata": {},
   "outputs": [],
   "source": [
    "import heapq\n",
    "import sys"
   ]
  },
  {
   "cell_type": "code",
   "execution_count": 10,
   "metadata": {},
   "outputs": [
    {
     "name": "stdout",
     "output_type": "stream",
     "text": [
      "Shprtest path for 1: {1: 0, 2: 2, 3: -3, 4: -1}\n",
      "Shprtest path for 2: {1: inf, 2: 0, 3: 4, 4: 1}\n",
      "Shprtest path for 3: {1: inf, 2: inf, 3: 0, 4: 2}\n",
      "Shprtest path for 4: {1: inf, 2: inf, 3: inf, 4: 0}\n"
     ]
    }
   ],
   "source": [
    "def bellmanford(graph,start):\n",
    "    distance={vertex:float('inf') for vertex in graph}\n",
    "    distance[start]=0\n",
    "    \n",
    "    for i in range(len(graph)-1):\n",
    "        for u in graph:\n",
    "            for v,w in graph[u]:\n",
    "                if distance[u]+w<distance[v]:\n",
    "                    distance[v]=w+distance[u]\n",
    "    \n",
    "    for u in graph:\n",
    "        for v,w in graph[u]:\n",
    "            if distance[u]+w<distance[v]:\n",
    "                raise ValueError(\"graph contain negative-weight cycle\") \n",
    "    return distance\n",
    "\n",
    "def dijkastra(graph,start):\n",
    "    distance={vertex:float('inf') for vertex in graph}\n",
    "    distance[start]=0\n",
    "    pq=[(0,start)]\n",
    "    \n",
    "    while pq:\n",
    "        current_distance,current_vertex=heapq.heappop(pq)\n",
    "        if current_distance>distance[current_vertex]:\n",
    "            continue\n",
    "        for neighbour,weight in graph[current_vertex]:\n",
    "            if current_distance+weight<distance[neighbour]:\n",
    "                distance[neighbour]=current_distance+weight\n",
    "                heapq.heappush(pq,(current_distance+weight,neighbour))\n",
    "    return distance\n",
    "\n",
    "def johnsons_algorithm(graph):\n",
    "    new_vertex='q'\n",
    "    new_graph={new_vertex:[]}\n",
    "    \n",
    "    for vertex in graph:\n",
    "        new_graph[new_vertex].append((vertex,0))\n",
    "    \n",
    "    for u in graph:\n",
    "        new_graph[u]=graph[u]\n",
    "        \n",
    "    h=bellmanford(new_graph,new_vertex)\n",
    "    \n",
    "    reweighted_graph={}\n",
    "    for u in graph:\n",
    "        reweighted_graph[u]=[]\n",
    "        for v,w in graph[u]:\n",
    "            new_weight=w+h[u]-h[v]\n",
    "            reweighted_graph[u].append((v,new_weight))\n",
    "    \n",
    "    shortest_path={}\n",
    "    for vertex in reweighted_graph:\n",
    "        shortest_path[vertex]=dijkastra(reweighted_graph,vertex)\n",
    "    \n",
    "    # adjust the distances to original weights\n",
    "    for u in shortest_path:\n",
    "        for v in shortest_path[u]:\n",
    "            shortest_path[u][v]+=h[v]-h[u]\n",
    "    return shortest_path\n",
    "\n",
    "graph={\n",
    "    1: [(2, 2), (3, -3)],\n",
    "    2: [(3, 4), (4, 1)],\n",
    "    3: [(4, 2)],\n",
    "    4: []\n",
    "}     \n",
    "\n",
    "shortest_paths=johnsons_algorithm(graph)\n",
    "\n",
    "for u in shortest_paths:\n",
    "    print(f'Shprtest path for {u}: {shortest_paths[u]}')                                     "
   ]
  },
  {
   "cell_type": "code",
   "execution_count": null,
   "metadata": {},
   "outputs": [],
   "source": []
  }
 ],
 "metadata": {
  "kernelspec": {
   "display_name": "Python 3",
   "language": "python",
   "name": "python3"
  },
  "language_info": {
   "codemirror_mode": {
    "name": "ipython",
    "version": 3
   },
   "file_extension": ".py",
   "mimetype": "text/x-python",
   "name": "python",
   "nbconvert_exporter": "python",
   "pygments_lexer": "ipython3",
   "version": "3.12.5"
  }
 },
 "nbformat": 4,
 "nbformat_minor": 2
}
