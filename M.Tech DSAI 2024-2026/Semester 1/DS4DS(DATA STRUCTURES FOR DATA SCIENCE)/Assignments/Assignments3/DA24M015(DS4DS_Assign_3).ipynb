{
  "nbformat": 4,
  "nbformat_minor": 0,
  "metadata": {
    "colab": {
      "provenance": [],
      "gpuType": "T4"
    },
    "kernelspec": {
      "name": "python3",
      "display_name": "Python 3"
    },
    "language_info": {
      "name": "python"
    },
    "accelerator": "GPU"
  },
  "cells": [
    {
      "cell_type": "code",
      "execution_count": 47,
      "metadata": {
        "id": "upv_h-TsP4bv"
      },
      "outputs": [],
      "source": [
        "class TreeNode:\n",
        "  def __init__(self,val):\n",
        "    self.val=val\n",
        "    self.left=None\n",
        "    self.right=None\n",
        "\n",
        "class BinarySearchTree:\n",
        "  def __init__(self):\n",
        "    self.root=None\n",
        "\n",
        "  # Insert\n",
        "  def insert(self,key):\n",
        "    if self.root is None:\n",
        "      self.root=TreeNode(key)\n",
        "    else:\n",
        "      self._insert(self.root,key)\n",
        "\n",
        "  def _insert(self,root,key):\n",
        "    if key<root.val:\n",
        "      if root.left is None:\n",
        "        root.left=TreeNode(key)\n",
        "      else:\n",
        "        self._insert(root.left,key)\n",
        "    else:\n",
        "      if root.right is None:\n",
        "        root.right=TreeNode(key)\n",
        "      else:\n",
        "        self._insert(root.right,key)\n",
        "# Minimum\n",
        "  def min(self, root):\n",
        "    current = root\n",
        "    while current.left is not None:\n",
        "       current = current.left\n",
        "    return current\n",
        "\n",
        "    # Maximum\n",
        "  def max(self, root):\n",
        "    current = root\n",
        "    while current.right is not None:\n",
        "      current = current.right\n",
        "    return current\n",
        "\n",
        "# Search\n",
        "  def search(self,root,key):\n",
        "    if root is None or root.val==key:\n",
        "       return root\n",
        "    if key<root.val:\n",
        "       return self.search(root.left,key)\n",
        "    else:\n",
        "       return self.search(root.right,key)\n",
        "\n",
        "\n",
        "# Inorder\n",
        "  def inorder(self,root):\n",
        "    if root is not None:\n",
        "      self.inorder(root.left)\n",
        "      print(root.val,end=' ')\n",
        "      self.inorder(root.right)\n",
        "\n",
        "\n",
        "# Successor\n",
        "\n",
        "  def inorder_successor(self,key):\n",
        "    node=self.search(self.root,key)\n",
        "    if node is None:\n",
        "      return None\n",
        "\n",
        "    if node.right:\n",
        "      return self.min(node.right)\n",
        "\n",
        "    successor=None\n",
        "    ancestor=self.root\n",
        "\n",
        "    while ancestor!=node:\n",
        "      if node.val<ancestor.val:\n",
        "        successor=ancestor\n",
        "        ancestor=ancestor.left\n",
        "      else:\n",
        "        ancestor=ancestor.right\n",
        "    return successor\n",
        "\n",
        "\n"
      ]
    },
    {
      "cell_type": "code",
      "source": [
        "bst=BinarySearchTree()\n",
        "\n",
        "keys=[14,5,6,3,78,98]\n",
        "\n",
        "for key in keys:\n",
        "  bst.insert(key)\n",
        "\n",
        "successor=bst.inorder_successor(14)\n",
        "if successor:\n",
        "  print(successor.val)\n",
        "else:\n",
        "  print(\"No suceessor found\")"
      ],
      "metadata": {
        "colab": {
          "base_uri": "https://localhost:8080/"
        },
        "id": "ibelQE8nS8Oq",
        "outputId": "2144343e-710f-4954-cda3-27fc5d033817"
      },
      "execution_count": 49,
      "outputs": [
        {
          "output_type": "stream",
          "name": "stdout",
          "text": [
            "78\n"
          ]
        }
      ]
    },
    {
      "cell_type": "code",
      "source": [
        "bst.inorder(bst.root)"
      ],
      "metadata": {
        "colab": {
          "base_uri": "https://localhost:8080/"
        },
        "id": "eJS5xoC0TVNa",
        "outputId": "e20583fd-a4b5-46bf-92e4-ae8c3fb60dfe"
      },
      "execution_count": 50,
      "outputs": [
        {
          "output_type": "stream",
          "name": "stdout",
          "text": [
            "3 5 6 14 78 98 "
          ]
        }
      ]
    },
    {
      "cell_type": "code",
      "source": [],
      "metadata": {
        "id": "A-uQB84GTYlE"
      },
      "execution_count": 46,
      "outputs": []
    }
  ]
}