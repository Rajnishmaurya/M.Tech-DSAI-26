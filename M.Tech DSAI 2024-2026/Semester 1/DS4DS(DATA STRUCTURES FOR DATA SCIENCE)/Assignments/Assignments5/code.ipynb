{
 "cells": [
  {
   "cell_type": "code",
   "execution_count": 1,
   "metadata": {},
   "outputs": [],
   "source": [
    "# Using library"
   ]
  },
  {
   "cell_type": "code",
   "execution_count": 4,
   "metadata": {},
   "outputs": [],
   "source": [
    "import heapq\n",
    "\n",
    "class PriorityQueue:\n",
    "    def __init__(self):\n",
    "        self.heap=[]\n",
    "     \n",
    "    def insert(self,key,value):\n",
    "        heapq.heappush(self.heap,(key,value))\n",
    "    \n",
    "    def remove(self):\n",
    "        if self.heap is None:\n",
    "            return None\n",
    "        return heapq.heappop(self.heap)          "
   ]
  },
  {
   "cell_type": "code",
   "execution_count": 5,
   "metadata": {},
   "outputs": [
    {
     "name": "stdout",
     "output_type": "stream",
     "text": [
      "(3, 'task2')\n",
      "(4, 'task3')\n",
      "(5, 'task1')\n"
     ]
    }
   ],
   "source": [
    "pq = PriorityQueue()\n",
    "pq.insert(5, \"task1\")\n",
    "pq.insert(3, \"task2\")\n",
    "pq.insert(4, \"task3\")\n",
    "\n",
    "print(pq.remove()) \n",
    "print(pq.remove()) \n",
    "print(pq.remove())"
   ]
  },
  {
   "cell_type": "code",
   "execution_count": null,
   "metadata": {},
   "outputs": [],
   "source": [
    "# Using Node "
   ]
  }
 ],
 "metadata": {
  "kernelspec": {
   "display_name": "Python 3",
   "language": "python",
   "name": "python3"
  },
  "language_info": {
   "codemirror_mode": {
    "name": "ipython",
    "version": 3
   },
   "file_extension": ".py",
   "mimetype": "text/x-python",
   "name": "python",
   "nbconvert_exporter": "python",
   "pygments_lexer": "ipython3",
   "version": "3.12.5"
  }
 },
 "nbformat": 4,
 "nbformat_minor": 2
}
