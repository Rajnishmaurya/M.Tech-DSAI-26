{
 "cells": [
  {
   "cell_type": "code",
   "execution_count": 1,
   "metadata": {},
   "outputs": [],
   "source": [
    "# Using library"
   ]
  },
  {
   "cell_type": "code",
   "execution_count": 4,
   "metadata": {},
   "outputs": [],
   "source": [
    "import heapq\n",
    "\n",
    "class PriorityQueue:\n",
    "    def __init__(self):\n",
    "        self.heap=[]\n",
    "     \n",
    "    def insert(self,key,value):\n",
    "        heapq.heappush(self.heap,(key,value))\n",
    "    \n",
    "    def remove(self):\n",
    "        if self.heap is None:\n",
    "            return None\n",
    "        return heapq.heappop(self.heap)          "
   ]
  },
  {
   "cell_type": "code",
   "execution_count": 5,
   "metadata": {},
   "outputs": [
    {
     "name": "stdout",
     "output_type": "stream",
     "text": [
      "(3, 'task2')\n",
      "(4, 'task3')\n",
      "(5, 'task1')\n"
     ]
    }
   ],
   "source": [
    "pq = PriorityQueue()\n",
    "pq.insert(5, \"task1\")\n",
    "pq.insert(3, \"task2\")\n",
    "pq.insert(4, \"task3\")\n",
    "\n",
    "print(pq.remove()) \n",
    "print(pq.remove()) \n",
    "print(pq.remove())"
   ]
  },
  {
   "cell_type": "code",
   "execution_count": 6,
   "metadata": {},
   "outputs": [],
   "source": [
    "# Using Node "
   ]
  },
  {
   "cell_type": "code",
   "execution_count": 15,
   "metadata": {},
   "outputs": [],
   "source": [
    "class Node:\n",
    "    def __init__(self,key,value):\n",
    "        self.key=key\n",
    "        self.value=value\n",
    "        \n",
    "    def __lt__(self,other):\n",
    "        return self.key<other.key\n",
    "\n",
    "class PriorityQueue:\n",
    "    def __init__(self):\n",
    "        self.heap=[]\n",
    "    \n",
    "    def insert(self,key,value):\n",
    "        node=Node(key,value)\n",
    "        self.heap.append(node)\n",
    "        self._heapify_up(len(self.heap)-1)\n",
    "        \n",
    "    def remove_min(self):\n",
    "        if not self.heap:\n",
    "            return None\n",
    "        \n",
    "        min_value=self.heap[0]\n",
    "        self.heap[0]=self.heap[-1]\n",
    "        self.heap.pop()\n",
    "        self._heapify_down(0)\n",
    "        return min_value\n",
    "    \n",
    "    def _heapify_up(self,index):\n",
    "        while index>0:\n",
    "            parent=(index-1)//2\n",
    "            if self.heap[index]<self.heap[parent]:\n",
    "                self.heap[index],self.heap[parent]=self.heap[parent],self.heap[index]\n",
    "                index=parent\n",
    "            else:\n",
    "                break\n",
    "                    \n",
    "    \n",
    "    def _heapify_down(self,index):\n",
    "        length=len(self.heap)\n",
    "        while 2*index+1<length:\n",
    "            left=2*index+1\n",
    "            right=2*index+2\n",
    "            \n",
    "            if right<length and self.heap[right]<self.heap[left]:\n",
    "                left=right\n",
    "            \n",
    "            if self.heap[index]<self.heap[left]:\n",
    "                break\n",
    "            \n",
    "            self.heap[index],self.heap[left]=self.heap[left],self.heap[index]\n",
    "            index=left\n",
    "\n",
    "pq=PriorityQueue()\n",
    "pq.insert(5,\"Rajnish Maurya\")\n",
    "pq.insert(6,\"Satyam Maurya\") \n",
    "pq.insert(7,\"Ramesh Maurya\")\n",
    "pq.insert(8,\"Shakshi Maurya\")    \n",
    "\n",
    "       \n",
    "                 \n",
    "        \n",
    "        \n",
    "            \n",
    "    \n",
    "                   "
   ]
  },
  {
   "cell_type": "code",
   "execution_count": 16,
   "metadata": {},
   "outputs": [
    {
     "data": {
      "text/plain": [
       "5"
      ]
     },
     "execution_count": 16,
     "metadata": {},
     "output_type": "execute_result"
    }
   ],
   "source": [
    "pq.remove_min().key"
   ]
  },
  {
   "cell_type": "code",
   "execution_count": null,
   "metadata": {},
   "outputs": [],
   "source": []
  },
  {
   "cell_type": "code",
   "execution_count": null,
   "metadata": {},
   "outputs": [],
   "source": []
  }
 ],
 "metadata": {
  "kernelspec": {
   "display_name": "Python 3",
   "language": "python",
   "name": "python3"
  },
  "language_info": {
   "codemirror_mode": {
    "name": "ipython",
    "version": 3
   },
   "file_extension": ".py",
   "mimetype": "text/x-python",
   "name": "python",
   "nbconvert_exporter": "python",
   "pygments_lexer": "ipython3",
   "version": "3.12.5"
  }
 },
 "nbformat": 4,
 "nbformat_minor": 2
}
