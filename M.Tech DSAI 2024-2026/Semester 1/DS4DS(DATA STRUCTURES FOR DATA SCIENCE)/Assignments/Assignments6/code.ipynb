{
 "cells": [
  {
   "cell_type": "markdown",
   "metadata": {},
   "source": [
    "# Graph withe vertex and edge list"
   ]
  },
  {
   "cell_type": "code",
   "execution_count": null,
   "metadata": {},
   "outputs": [],
   "source": [
    "class Graph1:\n",
    "    def __init__(self):\n",
    "        self.vertex=[]\n",
    "        self.edge_list=[]\n",
    "    \n",
    "    def add_vertex(self,v):\n",
    "        if v not in self.vertex:\n",
    "            self.vertex.append(v)\n",
    "    \n",
    "    def add_edge(self,u,v):\n",
    "        if u not in self.vertex or v not in self.vertex:\n",
    "            raise KeyError(\"invalid vertex\")\n",
    "        self.edge_list.append((u,v))\n",
    "    \n",
    "    def get_neighbours(self,vertex):\n",
    "        neighbours=[]\n",
    "        for a,b in self.edge_list:\n",
    "            if a==vertex:\n",
    "                neighbours.append(b)\n",
    "            elif b==vertex:\n",
    "                neighbours.append(a)\n",
    "        \n",
    "        return neighbours                          "
   ]
  },
  {
   "cell_type": "markdown",
   "metadata": {},
   "source": []
  },
  {
   "cell_type": "code",
   "execution_count": null,
   "metadata": {},
   "outputs": [],
   "source": []
  },
  {
   "cell_type": "code",
   "execution_count": null,
   "metadata": {},
   "outputs": [],
   "source": []
  },
  {
   "cell_type": "markdown",
   "metadata": {},
   "source": [
    "# Graph with Adjacency list"
   ]
  },
  {
   "cell_type": "code",
   "execution_count": 2,
   "metadata": {},
   "outputs": [],
   "source": [
    "class Graph2:\n",
    "    def __init__(self):\n",
    "        self.adj_list={}\n",
    "    \n",
    "    def add_vertex(self,v):\n",
    "        if v not in self.adj_list.keys():\n",
    "            self.adj_list[v]=[]    \n",
    "    \n",
    "    def add_edge(self,u,v):\n",
    "        if u not in self.adj_list.keys() or v not in self.adj_list.keys():\n",
    "            raise ValueError(\"Invalid Edge\")\n",
    "        \n",
    "        self.adj_list[u].append(v)\n",
    "        self.adj_list[v].append(u)\n",
    "    \n",
    "    def get_neighbours(self, vertex):\n",
    "        if vertex not in self.adj_list.keys():\n",
    "            raise ValueError(\"Invalid vertex\")\n",
    "        return self.adj_list[vertex]        "
   ]
  },
  {
   "cell_type": "code",
   "execution_count": null,
   "metadata": {},
   "outputs": [],
   "source": []
  },
  {
   "cell_type": "code",
   "execution_count": null,
   "metadata": {},
   "outputs": [],
   "source": []
  },
  {
   "cell_type": "code",
   "execution_count": null,
   "metadata": {},
   "outputs": [],
   "source": []
  },
  {
   "cell_type": "markdown",
   "metadata": {},
   "source": [
    "# Graph with Adjacency Matrix"
   ]
  },
  {
   "cell_type": "code",
   "execution_count": 3,
   "metadata": {},
   "outputs": [],
   "source": [
    "class Graph3:\n",
    "    def __init__(self,n):\n",
    "        self.adj_matrix=[[0]*n for _ in range(n)]\n",
    "        self.n=n\n",
    "    \n",
    "    def add_edge(self,u,v):\n",
    "        if u<0 or u>self.n or v<0 or v>self.n:\n",
    "            raise ValueError(\"Invalid Edge\")\n",
    "        self.adj_matrix[u][v]=1\n",
    "        self.adj_matrix[v][u]=1\n",
    "    \n",
    "    def get_neighbours(self,vertex):\n",
    "        neighbours=[]\n",
    "        for i in range(self.n):\n",
    "            if self.adj_matrix[vertex][i]==1:\n",
    "                neighbours.append(i)\n",
    "        return neighbours               "
   ]
  },
  {
   "cell_type": "code",
   "execution_count": null,
   "metadata": {},
   "outputs": [],
   "source": []
  },
  {
   "cell_type": "code",
   "execution_count": null,
   "metadata": {},
   "outputs": [],
   "source": []
  },
  {
   "cell_type": "code",
   "execution_count": null,
   "metadata": {},
   "outputs": [],
   "source": []
  },
  {
   "cell_type": "markdown",
   "metadata": {},
   "source": [
    "# BFS with adjacency_list"
   ]
  },
  {
   "cell_type": "code",
   "execution_count": null,
   "metadata": {},
   "outputs": [],
   "source": []
  },
  {
   "cell_type": "code",
   "execution_count": 6,
   "metadata": {},
   "outputs": [],
   "source": [
    "class Graph:\n",
    "    def __init__(self):\n",
    "        self.adj_list={}\n",
    "    \n",
    "    def add_vertex(self,v):\n",
    "        if v not in self.adj_list.keys():\n",
    "            self.adj_list[v]=[]\n",
    "    \n",
    "    def add_edge(self,u,v):\n",
    "        if u not in self.adj_list.keys() or v not in self.adj_list.keys():\n",
    "            raise ValueError(\"Invalid vertex\")\n",
    "        self.adj_list[u].append(v)\n",
    "        self.adj_list[v].append(u)\n",
    "    \n",
    "    def get_neighbours(self,vertex):\n",
    "        if vertex not in self.adj_list.keys():\n",
    "            raise ValueError(\"Invalid Vertex\")\n",
    "        return self.adj_list[vertex]                "
   ]
  },
  {
   "cell_type": "code",
   "execution_count": 7,
   "metadata": {},
   "outputs": [],
   "source": [
    "g=Graph()\n",
    "for i in range(5):\n",
    "    g.add_vertex(i)\n",
    "\n",
    "g.add_edge(0,1)\n",
    "g.add_edge(0,3)\n",
    "g.add_edge(1,2)\n",
    "g.add_edge(1,3)\n",
    "g.add_edge(2,4)\n",
    "g.add_edge(3,4)    "
   ]
  },
  {
   "cell_type": "code",
   "execution_count": 8,
   "metadata": {},
   "outputs": [
    {
     "data": {
      "text/plain": [
       "{0: [1, 3], 1: [0, 2, 3], 2: [1, 4], 3: [0, 1, 4], 4: [2, 3]}"
      ]
     },
     "execution_count": 8,
     "metadata": {},
     "output_type": "execute_result"
    }
   ],
   "source": [
    "g.adj_list"
   ]
  },
  {
   "cell_type": "code",
   "execution_count": 11,
   "metadata": {},
   "outputs": [
    {
     "data": {
      "text/plain": [
       "<bound method Graph.add_vertex of <__main__.Graph object at 0x0000021F9DFDE120>>"
      ]
     },
     "execution_count": 11,
     "metadata": {},
     "output_type": "execute_result"
    }
   ],
   "source": [
    "g.add_vertex"
   ]
  },
  {
   "cell_type": "code",
   "execution_count": 12,
   "metadata": {},
   "outputs": [],
   "source": [
    "def bfs_graph_search(g,start,end):\n",
    "    adj_list=g.adj_list\n",
    "    \n",
    "    visited={}\n",
    "    for i in adj_list.keys():\n",
    "        visited[i]=0\n",
    "    \n",
    "    visited[start]=1\n",
    "    queue=[start]\n",
    "    \n",
    "    while queue:\n",
    "        head=queue.pop(0)\n",
    "        print(f'Current element: {head}')\n",
    "        visited[head]=2    \n",
    "        \n",
    "        if head==end:\n",
    "            print('element found')\n",
    "            return visited\n",
    "        neighbours=adj_list[head]\n",
    "        for i in neighbours:\n",
    "            if visited[i]==0:\n",
    "                queue.append(i)\n",
    "                visited[i]=1\n",
    "        print(f'Frontier: {queue}')\n",
    "        print('--------------------')\n",
    "    \n",
    "    print(\"Element not found\")\n",
    "    return visited            \n",
    "        "
   ]
  },
  {
   "cell_type": "code",
   "execution_count": 13,
   "metadata": {},
   "outputs": [
    {
     "name": "stdout",
     "output_type": "stream",
     "text": [
      "Current element: 0\n",
      "Frontier: [1, 3]\n",
      "--------------------\n",
      "Current element: 1\n",
      "Frontier: [3, 2]\n",
      "--------------------\n",
      "Current element: 3\n",
      "Frontier: [2, 4]\n",
      "--------------------\n",
      "Current element: 2\n",
      "element found\n"
     ]
    },
    {
     "data": {
      "text/plain": [
       "{0: 2, 1: 2, 2: 2, 3: 2, 4: 1}"
      ]
     },
     "execution_count": 13,
     "metadata": {},
     "output_type": "execute_result"
    }
   ],
   "source": [
    "bfs_graph_search(g,0,2)"
   ]
  },
  {
   "cell_type": "code",
   "execution_count": 14,
   "metadata": {},
   "outputs": [],
   "source": [
    "def bfs_tree_search(g,start,end,k):\n",
    "    adj_list=g.adj_list\n",
    "    n=len(adj_list.keys())\n",
    "    \n",
    "    queue=[start]\n",
    "    count=0\n",
    "    while queue:\n",
    "        if count>k*n:\n",
    "            raise ValueError(\"Loop Exists\")\n",
    "        head=queue.pop(0)\n",
    "        print(f'Current elements: {head}')\n",
    "        if head==end:\n",
    "            print(\"Element found\")\n",
    "            return \n",
    "        \n",
    "        for i in adj_list[head]:\n",
    "            queue.append(i)\n",
    "        print(f'Frontier: {queue}')\n",
    "        print(\"------------------\")\n",
    "        count+=1\n",
    "    print(\"Element not fount\")        "
   ]
  },
  {
   "cell_type": "code",
   "execution_count": 18,
   "metadata": {},
   "outputs": [
    {
     "name": "stdout",
     "output_type": "stream",
     "text": [
      "Current elements: 0\n",
      "Frontier: [1, 3]\n",
      "------------------\n",
      "Current elements: 1\n",
      "Frontier: [3, 0, 2, 3]\n",
      "------------------\n",
      "Current elements: 3\n",
      "Frontier: [0, 2, 3, 0, 1, 4]\n",
      "------------------\n",
      "Current elements: 0\n",
      "Frontier: [2, 3, 0, 1, 4, 1, 3]\n",
      "------------------\n",
      "Current elements: 2\n",
      "Frontier: [3, 0, 1, 4, 1, 3, 1, 4]\n",
      "------------------\n",
      "Current elements: 3\n",
      "Frontier: [0, 1, 4, 1, 3, 1, 4, 0, 1, 4]\n",
      "------------------\n",
      "Current elements: 0\n",
      "Frontier: [1, 4, 1, 3, 1, 4, 0, 1, 4, 1, 3]\n",
      "------------------\n",
      "Current elements: 1\n",
      "Frontier: [4, 1, 3, 1, 4, 0, 1, 4, 1, 3, 0, 2, 3]\n",
      "------------------\n",
      "Current elements: 4\n",
      "Element found\n"
     ]
    }
   ],
   "source": [
    "bfs_tree_search(g,0,4,10)"
   ]
  },
  {
   "cell_type": "code",
   "execution_count": null,
   "metadata": {},
   "outputs": [],
   "source": []
  }
 ],
 "metadata": {
  "kernelspec": {
   "display_name": "Python 3",
   "language": "python",
   "name": "python3"
  },
  "language_info": {
   "codemirror_mode": {
    "name": "ipython",
    "version": 3
   },
   "file_extension": ".py",
   "mimetype": "text/x-python",
   "name": "python",
   "nbconvert_exporter": "python",
   "pygments_lexer": "ipython3",
   "version": "3.12.5"
  }
 },
 "nbformat": 4,
 "nbformat_minor": 2
}
