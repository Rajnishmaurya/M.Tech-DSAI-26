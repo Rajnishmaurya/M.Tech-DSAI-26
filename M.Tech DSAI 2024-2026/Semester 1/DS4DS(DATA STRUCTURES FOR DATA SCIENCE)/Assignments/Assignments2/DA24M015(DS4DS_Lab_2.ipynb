{
  "nbformat": 4,
  "nbformat_minor": 0,
  "metadata": {
    "colab": {
      "provenance": []
    },
    "kernelspec": {
      "name": "python3",
      "display_name": "Python 3"
    },
    "language_info": {
      "name": "python"
    }
  },
  "cells": [
    {
      "cell_type": "markdown",
      "source": [
        "# 1. Positional List"
      ],
      "metadata": {
        "id": "L-tXAf0bPWlu"
      }
    },
    {
      "cell_type": "code",
      "execution_count": 16,
      "metadata": {
        "colab": {
          "base_uri": "https://localhost:8080/"
        },
        "id": "RklJ1IUjPEiX",
        "outputId": "f17b55e9-372f-4cd7-8294-b3dd654aa2eb"
      },
      "outputs": [
        {
          "output_type": "stream",
          "name": "stdout",
          "text": [
            "['A', 'D', 'C', 'B']\n",
            "A\n",
            "B\n",
            "['X', 'D', 'C', 'B']\n",
            "['X', 'D', 'C']\n"
          ]
        }
      ],
      "source": [
        "class PositionalList:\n",
        "    class Node:\n",
        "        def __init__(self, element, prev=None, next=None):\n",
        "            self.element = element\n",
        "            self.prev = prev\n",
        "            self.next = next\n",
        "\n",
        "    def __init__(self):\n",
        "        self.head=None\n",
        "        self.tail=None\n",
        "        self.size=0\n",
        "\n",
        "    def is_empty(self):\n",
        "        return self.size==0\n",
        "\n",
        "    def first(self):\n",
        "        if self.is_empty():\n",
        "            return None\n",
        "        return self.head\n",
        "\n",
        "    def last(self):\n",
        "        if self.is_empty():\n",
        "            return None\n",
        "        return self.tail\n",
        "\n",
        "    def before(self, p):\n",
        "        if p is self.head:\n",
        "            return None\n",
        "        return p.prev\n",
        "\n",
        "    def after(self, p):\n",
        "        if p is self.tail:\n",
        "            return None\n",
        "        return p.next\n",
        "\n",
        "    def __len__(self):\n",
        "        return self.size\n",
        "\n",
        "    def add_first(self, e):\n",
        "        new_node = self.Node(e, None, self.head)\n",
        "        if self.is_empty():\n",
        "            self.head=self.tail=new_node\n",
        "        else:\n",
        "            self.head.prev=new_node\n",
        "            self.head=new_node\n",
        "        self.size+=1\n",
        "        return new_node\n",
        "\n",
        "    def add_last(self, e):\n",
        "        new_node = self.Node(e, self.tail, None)\n",
        "        if self.is_empty():\n",
        "            self.head = self.tail = new_node\n",
        "        else:\n",
        "            self.tail.next = new_node\n",
        "            self.tail = new_node\n",
        "        self.size += 1\n",
        "        return new_node\n",
        "\n",
        "    def add_before(self, p, e):\n",
        "        if p is self.head:\n",
        "            return self.add_first(e)\n",
        "        new_node = self.Node(e, p.prev, p)\n",
        "        p.prev.next = new_node\n",
        "        p.prev = new_node\n",
        "        self.size += 1\n",
        "        return new_node\n",
        "\n",
        "    def add_after(self, p, e):\n",
        "        if p is self.tail:\n",
        "            return self.add_last(e)\n",
        "        new_node = self.Node(e, p, p.next)\n",
        "        p.next.prev = new_node\n",
        "        p.next = new_node\n",
        "        self.size += 1\n",
        "        return new_node\n",
        "\n",
        "    def replace(self, p, e):\n",
        "        old_element = p.element\n",
        "        p.element = e\n",
        "        return old_element\n",
        "\n",
        "    def delete(self, p):\n",
        "        if p is self.head:\n",
        "            self.head = p.next\n",
        "            if self.head:\n",
        "                self.head.prev = None\n",
        "        elif p is self.tail:\n",
        "            self.tail = p.prev\n",
        "            if self.tail:\n",
        "                self.tail.next = None\n",
        "        else:\n",
        "            p.prev.next = p.next\n",
        "            p.next.prev = p.prev\n",
        "\n",
        "        self.size -= 1\n",
        "        return p.element\n",
        "\n",
        "    def iter(self):\n",
        "        current = self.head\n",
        "        while current:\n",
        "            yield current.element\n",
        "            current = current.next\n",
        "\n",
        "    def element(self, p):\n",
        "        return p.element\n",
        "\n",
        "    def __str__(self):\n",
        "        return str(list(self.iter()))\n",
        "\n",
        "\n",
        "\n",
        "plist = PositionalList()\n",
        "first_pos = plist.add_first(\"A\")\n",
        "last_pos = plist.add_last(\"B\")\n",
        "plist.add_before(last_pos, \"C\")\n",
        "plist.add_after(first_pos, \"D\")\n",
        "\n",
        "print(plist)\n",
        "\n",
        "print(plist.element(first_pos))\n",
        "print(plist.element(last_pos))\n",
        "plist.replace(first_pos, \"X\")\n",
        "print(plist)\n",
        "\n",
        "plist.delete(last_pos)\n",
        "print(plist)\n",
        "\n"
      ]
    },
    {
      "cell_type": "markdown",
      "source": [
        "# 2. Queue"
      ],
      "metadata": {
        "id": "SNeLX--kPkUv"
      }
    },
    {
      "cell_type": "code",
      "source": [
        "class ArrayQueue:\n",
        "  DefaultCapacity=10\n",
        "\n",
        "  def __init__(self):\n",
        "    self.data=[None]*ArrayQueue.DefaultCapacity\n",
        "    self.size=0\n",
        "    self.front=0\n",
        "\n",
        "  def __len__(self):\n",
        "    return self.size\n",
        "\n",
        "  def is_empty(self):\n",
        "    return self.size==0\n",
        "\n",
        "  def first(self):\n",
        "    if self.is_empty():\n",
        "      raise IndexError('Queue is empty')\n",
        "    return self.data[self.front]\n",
        "\n",
        "  def dequeue(self):\n",
        "    if self.is_empty():\n",
        "      raise IndexError('Queue is empty')\n",
        "    answer=self.data[self.front]\n",
        "    self.data[self.front]=None\n",
        "    self.front=(self.front+1)%len(self.data)\n",
        "    self.size-=1\n",
        "    return answer\n",
        "\n",
        "  def enqueue(self,val):\n",
        "    if self.size==len(self.data):\n",
        "      self.reszie(2*len(self.data))\n",
        "    avail=(self.front+self.size)%len(self.data)\n",
        "    self.data[avail]=val\n",
        "    self.size+=1\n",
        "\n",
        "  def resize(self,cap):\n",
        "    old=self.data\n",
        "    self.data=[None]*cap\n",
        "    walk=self.front\n",
        "    for j in range(self.size):\n",
        "      self.data[j]=old[walk]\n",
        "      walk=(walk+1)%len(old)\n",
        "    self.front=0\n",
        "\n",
        "  def print(self):\n",
        "    for j in self.data:\n",
        "      return j\n",
        "    print()\n",
        "\n",
        "\n",
        "q=ArrayQueue()\n",
        "q.enqueue(8)\n",
        "q.enqueue(9)\n",
        "q.enqueue(110)"
      ],
      "metadata": {
        "id": "Z7wubpyDPmDF"
      },
      "execution_count": 17,
      "outputs": []
    },
    {
      "cell_type": "code",
      "source": [
        "q.dequeue()"
      ],
      "metadata": {
        "colab": {
          "base_uri": "https://localhost:8080/"
        },
        "id": "I-RXdTxX_wB5",
        "outputId": "be97ed7e-9462-4b00-91da-a02702d2e603"
      },
      "execution_count": 18,
      "outputs": [
        {
          "output_type": "execute_result",
          "data": {
            "text/plain": [
              "8"
            ]
          },
          "metadata": {},
          "execution_count": 18
        }
      ]
    },
    {
      "cell_type": "code",
      "source": [
        "q.__len__()"
      ],
      "metadata": {
        "colab": {
          "base_uri": "https://localhost:8080/"
        },
        "id": "AbBSmBYNAKvk",
        "outputId": "60ed8b73-7da3-4be4-a46e-582da4c89add"
      },
      "execution_count": 19,
      "outputs": [
        {
          "output_type": "execute_result",
          "data": {
            "text/plain": [
              "2"
            ]
          },
          "metadata": {},
          "execution_count": 19
        }
      ]
    },
    {
      "cell_type": "markdown",
      "source": [
        "# 3. Stack"
      ],
      "metadata": {
        "id": "Mm3VPNWcPn7C"
      }
    },
    {
      "cell_type": "code",
      "source": [
        "class ArrayStack:\n",
        "\n",
        "  def __init__(self):\n",
        "    self.data=[]\n",
        "\n",
        "  def __len__(self):\n",
        "    return len(self.data)\n",
        "\n",
        "  def is_empty(self):\n",
        "    return len(self.data)==0\n",
        "\n",
        "  def push(self,element):\n",
        "    self.data.append(element)\n",
        "\n",
        "  def top(self):\n",
        "    if self.is_empty():\n",
        "      raise IndexError('Stack is empty')\n",
        "    return self.data[-1]\n",
        "\n",
        "  def pop(self):\n",
        "    if self.is_empty():\n",
        "      raise IndexError('Stack is empty')\n",
        "    return self.data.pop()\n",
        "\n",
        "\n",
        "s=ArrayStack()\n",
        "s.push(10)\n",
        "s.push(12)\n",
        "s.push(14)\n",
        "print(\"Size\",s.__len__())\n",
        "print(\"Top element :\",s.top())\n",
        "print(\"Size\",s.__len__())\n",
        "s.pop()\n",
        "print(\"Size\",s.__len__())"
      ],
      "metadata": {
        "id": "rnH5PaX7PpRx",
        "colab": {
          "base_uri": "https://localhost:8080/"
        },
        "outputId": "eaef3fd7-b9d0-4ae3-a5ef-a8baf0ab6957"
      },
      "execution_count": 20,
      "outputs": [
        {
          "output_type": "stream",
          "name": "stdout",
          "text": [
            "Size 3\n",
            "Top element : 14\n",
            "Size 3\n",
            "Size 2\n"
          ]
        }
      ]
    },
    {
      "cell_type": "code",
      "source": [],
      "metadata": {
        "id": "CpsxZZTLVynS"
      },
      "execution_count": 20,
      "outputs": []
    }
  ]
}