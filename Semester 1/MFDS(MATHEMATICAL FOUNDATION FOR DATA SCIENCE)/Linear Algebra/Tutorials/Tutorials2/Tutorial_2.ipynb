{
 "cells": [
  {
   "cell_type": "markdown",
   "metadata": {},
   "source": [
    "# Tutorial 2"
   ]
  },
  {
   "cell_type": "markdown",
   "metadata": {},
   "source": [
    "## Q1) Row space, Column space, Null space, Rank, Basis, Gram-Schmidt Orthogonalization"
   ]
  },
  {
   "cell_type": "code",
   "execution_count": 2,
   "metadata": {},
   "outputs": [],
   "source": [
    "import numpy as np\n",
    "import sympy as sp\n",
    "from sympy import Matrix\n",
    "from sympy import *\n",
    "from IPython.display import display, Math\n",
    "init_printing(use_unicode=True)"
   ]
  },
  {
   "cell_type": "markdown",
   "metadata": {},
   "source": [
    "### Matrix Representation of the equations"
   ]
  },
  {
   "cell_type": "markdown",
   "metadata": {},
   "source": [
    "#### Variables"
   ]
  },
  {
   "cell_type": "code",
   "execution_count": 3,
   "metadata": {},
   "outputs": [
    {
     "data": {
      "text/latex": [
       "$\\displaystyle [Q_{in}, Q_{1}, Q_{2}, Q_{3}, Q_{32}, Q_{43}, Q_{out}]^T$"
      ],
      "text/plain": [
       "<IPython.core.display.Math object>"
      ]
     },
     "metadata": {},
     "output_type": "display_data"
    }
   ],
   "source": [
    "display(Math(r'[Q_{in}, Q_{1}, Q_{2}, Q_{3}, Q_{32}, Q_{43}, Q_{out}]^T'))"
   ]
  },
  {
   "cell_type": "code",
   "execution_count": 4,
   "metadata": {},
   "outputs": [],
   "source": [
    "# Define the coefficient matrix A\n",
    "A = Matrix([\n",
    "    [-1, 1, 0, 0, 0, 0, 0],\n",
    "    [0, 1, -1, 0, 1, 0, 0],\n",
    "    [0, 0, 1, -1, -1, 1, 0],\n",
    "    [0, 0, 0, 1, 0, -1, -1]\n",
    "])\n"
   ]
  },
  {
   "cell_type": "markdown",
   "metadata": {},
   "source": [
    "### Row Reduced Echelon Form "
   ]
  },
  {
   "cell_type": "code",
   "execution_count": 4,
   "metadata": {},
   "outputs": [
    {
     "data": {
      "text/latex": [
       "$\\displaystyle \\left[\\begin{matrix}1 & 0 & 0 & 0 & 0 & 0 & -1\\\\0 & 1 & 0 & 0 & 0 & 0 & -1\\\\0 & 0 & 1 & 0 & -1 & 0 & -1\\\\0 & 0 & 0 & 1 & 0 & -1 & -1\\end{matrix}\\right]$"
      ],
      "text/plain": [
       "⎡1  0  0  0  0   0   -1⎤\n",
       "⎢                      ⎥\n",
       "⎢0  1  0  0  0   0   -1⎥\n",
       "⎢                      ⎥\n",
       "⎢0  0  1  0  -1  0   -1⎥\n",
       "⎢                      ⎥\n",
       "⎣0  0  0  1  0   -1  -1⎦"
      ]
     },
     "execution_count": 4,
     "metadata": {},
     "output_type": "execute_result"
    }
   ],
   "source": [
    "# Compute the Row Reduced Echelon Form of the matrix\n",
    "rref_matrix, pivot_columns = A.rref()\n",
    "rref_matrix"
   ]
  },
  {
   "cell_type": "markdown",
   "metadata": {},
   "source": [
    "### Spaces"
   ]
  },
  {
   "cell_type": "code",
   "execution_count": 5,
   "metadata": {},
   "outputs": [],
   "source": [
    "row_space = A.rowspace()\n",
    "column_space = A.columnspace()\n",
    "null_space = A.nullspace()"
   ]
  },
  {
   "cell_type": "code",
   "execution_count": 6,
   "metadata": {},
   "outputs": [
    {
     "data": {
      "text/latex": [
       "$\\displaystyle \\left( \\left[ \\left[\\begin{matrix}-1 & 1 & 0 & 0 & 0 & 0 & 0\\end{matrix}\\right], \\  \\left[\\begin{matrix}0 & 1 & -1 & 0 & 1 & 0 & 0\\end{matrix}\\right], \\  \\left[\\begin{matrix}0 & 0 & 1 & -1 & -1 & 1 & 0\\end{matrix}\\right], \\  \\left[\\begin{matrix}0 & 0 & 0 & 1 & 0 & -1 & -1\\end{matrix}\\right]\\right], \\  \\left[ \\left[\\begin{matrix}-1\\\\0\\\\0\\\\0\\end{matrix}\\right], \\  \\left[\\begin{matrix}1\\\\1\\\\0\\\\0\\end{matrix}\\right], \\  \\left[\\begin{matrix}0\\\\-1\\\\1\\\\0\\end{matrix}\\right], \\  \\left[\\begin{matrix}0\\\\0\\\\-1\\\\1\\end{matrix}\\right]\\right], \\  \\left[ \\left[\\begin{matrix}0\\\\0\\\\1\\\\0\\\\1\\\\0\\\\0\\end{matrix}\\right], \\  \\left[\\begin{matrix}0\\\\0\\\\0\\\\1\\\\0\\\\1\\\\0\\end{matrix}\\right], \\  \\left[\\begin{matrix}1\\\\1\\\\1\\\\1\\\\0\\\\0\\\\1\\end{matrix}\\right]\\right]\\right)$"
      ],
      "text/plain": [
       "⎛                                                                             \n",
       "⎜                                                                             \n",
       "⎜                                                                             \n",
       "⎜                                                                             \n",
       "⎜                                                                             \n",
       "⎜                                                                             \n",
       "⎜[[-1  1  0  0  0  0  0], [0  1  -1  0  1  0  0], [0  0  1  -1  -1  1  0], [0 \n",
       "⎜                                                                             \n",
       "⎜                                                                             \n",
       "⎜                                                                             \n",
       "⎜                                                                             \n",
       "⎜                                                                             \n",
       "⎝                                                                             \n",
       "\n",
       "                                                ⎡⎡0⎤  ⎡0⎤  ⎡1⎤⎤⎞\n",
       "                                                ⎢⎢ ⎥  ⎢ ⎥  ⎢ ⎥⎥⎟\n",
       "                                                ⎢⎢0⎥  ⎢0⎥  ⎢1⎥⎥⎟\n",
       "                       ⎡⎡-1⎤  ⎡1⎤  ⎡0 ⎤  ⎡0 ⎤⎤  ⎢⎢ ⎥  ⎢ ⎥  ⎢ ⎥⎥⎟\n",
       "                       ⎢⎢  ⎥  ⎢ ⎥  ⎢  ⎥  ⎢  ⎥⎥  ⎢⎢1⎥  ⎢0⎥  ⎢1⎥⎥⎟\n",
       "                       ⎢⎢0 ⎥  ⎢1⎥  ⎢-1⎥  ⎢0 ⎥⎥  ⎢⎢ ⎥  ⎢ ⎥  ⎢ ⎥⎥⎟\n",
       " 0  0  1  0  -1  -1]], ⎢⎢  ⎥, ⎢ ⎥, ⎢  ⎥, ⎢  ⎥⎥, ⎢⎢0⎥, ⎢1⎥, ⎢1⎥⎥⎟\n",
       "                       ⎢⎢0 ⎥  ⎢0⎥  ⎢1 ⎥  ⎢-1⎥⎥  ⎢⎢ ⎥  ⎢ ⎥  ⎢ ⎥⎥⎟\n",
       "                       ⎢⎢  ⎥  ⎢ ⎥  ⎢  ⎥  ⎢  ⎥⎥  ⎢⎢1⎥  ⎢0⎥  ⎢0⎥⎥⎟\n",
       "                       ⎣⎣0 ⎦  ⎣0⎦  ⎣0 ⎦  ⎣1 ⎦⎦  ⎢⎢ ⎥  ⎢ ⎥  ⎢ ⎥⎥⎟\n",
       "                                                ⎢⎢0⎥  ⎢1⎥  ⎢0⎥⎥⎟\n",
       "                                                ⎢⎢ ⎥  ⎢ ⎥  ⎢ ⎥⎥⎟\n",
       "                                                ⎣⎣0⎦  ⎣0⎦  ⎣1⎦⎦⎠"
      ]
     },
     "execution_count": 6,
     "metadata": {},
     "output_type": "execute_result"
    }
   ],
   "source": [
    "row_space, column_space, null_space"
   ]
  },
  {
   "cell_type": "markdown",
   "metadata": {},
   "source": [
    "### Gram Schmidt Orthogonalization"
   ]
  },
  {
   "cell_type": "code",
   "execution_count": 7,
   "metadata": {},
   "outputs": [
    {
     "name": "stdout",
     "output_type": "stream",
     "text": [
      "Orthonormal row vectors:\n"
     ]
    },
    {
     "data": {
      "text/latex": [
       "$\\displaystyle \\left[\\begin{matrix}-0.707106781186547 & 0.707106781186547 & 0 & 0 & 0 & 0 & 0\\\\0.316227766016838 & 0.316227766016838 & -0.632455532033676 & 0 & 0.632455532033676 & 0 & 0\\\\0.258198889747161 & 0.258198889747161 & 0.129099444873581 & -0.645497224367903 & -0.129099444873581 & 0.645497224367903 & 0\\\\0.288675134594813 & 0.288675134594813 & 0.144337567297406 & 0.144337567297406 & -0.144337567297406 & -0.144337567297406 & -0.866025403784438\\end{matrix}\\right]$"
      ],
      "text/plain": [
       "⎡-0.707106781186547  0.707106781186547          0                   0         \n",
       "⎢                                                                             \n",
       "⎢0.316227766016838   0.316227766016838  -0.632455532033676          0         \n",
       "⎢                                                                             \n",
       "⎢0.258198889747161   0.258198889747161  0.129099444873581   -0.645497224367903\n",
       "⎢                                                                             \n",
       "⎣0.288675134594813   0.288675134594813  0.144337567297406   0.144337567297406 \n",
       "\n",
       "          0                   0                   0         ⎤\n",
       "                                                            ⎥\n",
       "  0.632455532033676           0                   0         ⎥\n",
       "                                                            ⎥\n",
       "  -0.129099444873581  0.645497224367903           0         ⎥\n",
       "                                                            ⎥\n",
       "  -0.144337567297406  -0.144337567297406  -0.866025403784438⎦"
      ]
     },
     "execution_count": 7,
     "metadata": {},
     "output_type": "execute_result"
    }
   ],
   "source": [
    "def gram_schmidt(vectors):\n",
    "    orthonormal_vectors = []\n",
    "    for v in vectors:\n",
    "        for u in orthonormal_vectors:\n",
    "            v -= (v @ u.T) / (u @ u.T) * u\n",
    "        v = v / (v @ v.T) ** 0.5\n",
    "        \n",
    "        orthonormal_vectors.append(v)\n",
    "\n",
    "    for i, el in enumerate(orthonormal_vectors):\n",
    "        orthonormal_vectors[i] = el.tolist()\n",
    "    return orthonormal_vectors\n",
    "\n",
    "row_basis_vectors = np.array(row_space).squeeze()\n",
    "orthonormal_row_vectors = gram_schmidt(row_basis_vectors)\n",
    "\n",
    "print('Orthonormal row vectors:')\n",
    "orthonormal_row_vectors_sp = Matrix(orthonormal_row_vectors)\n",
    "orthonormal_row_vectors_sp"
   ]
  },
  {
   "cell_type": "markdown",
   "metadata": {},
   "source": [
    "### Using QR Decomposition function directly\n",
    "\n",
    "###### *QR decomposition not discussed, refer to working of the algorithm online"
   ]
  },
  {
   "cell_type": "code",
   "execution_count": 8,
   "metadata": {},
   "outputs": [
    {
     "name": "stdout",
     "output_type": "stream",
     "text": [
      "Orthonormal Vectors:\n",
      "[[-0.70710678  0.70710678  0.          0.          0.          0.\n",
      "   0.        ]\n",
      " [-0.31622777 -0.31622777  0.63245553 -0.         -0.63245553 -0.\n",
      "  -0.        ]\n",
      " [-0.25819889 -0.25819889 -0.12909944  0.64549722  0.12909944 -0.64549722\n",
      "  -0.        ]\n",
      " [-0.28867513 -0.28867513 -0.14433757 -0.14433757  0.14433757  0.14433757\n",
      "   0.8660254 ]]\n"
     ]
    }
   ],
   "source": [
    "row_basis_vectors = np.array(row_space).squeeze()\n",
    "Q, R = np.linalg.qr(row_basis_vectors.T)\n",
    "\n",
    "orthonormal_vectors = Q.T\n",
    "\n",
    "print(\"Orthonormal Vectors:\")\n",
    "print(orthonormal_vectors)\n"
   ]
  },
  {
   "cell_type": "code",
   "execution_count": 9,
   "metadata": {},
   "outputs": [
    {
     "name": "stdout",
     "output_type": "stream",
     "text": [
      "Orthonormal Null Vectors:\n"
     ]
    },
    {
     "data": {
      "text/latex": [
       "$\\displaystyle \\left[\\begin{matrix}-0.707106781186547 & 0.707106781186547 & 0 & 0 & 0 & 0 & 0\\\\0.316227766016838 & 0.316227766016838 & -0.632455532033676 & 0 & 0.632455532033676 & 0 & 0\\\\0.258198889747161 & 0.258198889747161 & 0.129099444873581 & -0.645497224367903 & -0.129099444873581 & 0.645497224367903 & 0\\\\0.288675134594813 & 0.288675134594813 & 0.144337567297406 & 0.144337567297406 & -0.144337567297406 & -0.144337567297406 & -0.866025403784438\\end{matrix}\\right]$"
      ],
      "text/plain": [
       "⎡-0.707106781186547  0.707106781186547          0                   0         \n",
       "⎢                                                                             \n",
       "⎢0.316227766016838   0.316227766016838  -0.632455532033676          0         \n",
       "⎢                                                                             \n",
       "⎢0.258198889747161   0.258198889747161  0.129099444873581   -0.645497224367903\n",
       "⎢                                                                             \n",
       "⎣0.288675134594813   0.288675134594813  0.144337567297406   0.144337567297406 \n",
       "\n",
       "          0                   0                   0         ⎤\n",
       "                                                            ⎥\n",
       "  0.632455532033676           0                   0         ⎥\n",
       "                                                            ⎥\n",
       "  -0.129099444873581  0.645497224367903           0         ⎥\n",
       "                                                            ⎥\n",
       "  -0.144337567297406  -0.144337567297406  -0.866025403784438⎦"
      ]
     },
     "execution_count": 9,
     "metadata": {},
     "output_type": "execute_result"
    }
   ],
   "source": [
    "null_basis_vectors = np.array(null_space).squeeze()\n",
    "orthonormal_null_vectors = gram_schmidt(null_basis_vectors)\n",
    "print(\"Orthonormal Null Vectors:\")\n",
    "\n",
    "orthonormal_null_vectors = Matrix(orthonormal_row_vectors)\n",
    "orthonormal_null_vectors"
   ]
  },
  {
   "cell_type": "markdown",
   "metadata": {},
   "source": [
    "# Q2) Computing Inverse Explicitly vs Gauss Elimination"
   ]
  },
  {
   "cell_type": "code",
   "execution_count": 10,
   "metadata": {},
   "outputs": [],
   "source": [
    "import time\n",
    "from matplotlib import pyplot as plt"
   ]
  },
  {
   "cell_type": "code",
   "execution_count": 11,
   "metadata": {},
   "outputs": [],
   "source": [
    "matrix_sizes = [10, 100, 1000, 2000, 3000, 4000, 5000, 6000, 7000, 8000, 9000, 10000]\n"
   ]
  },
  {
   "cell_type": "code",
   "execution_count": 21,
   "metadata": {},
   "outputs": [],
   "source": [
    "inverse_then_multiply_times = []\n",
    "direct_solve_times = []\n",
    "\n",
    "for matrix_size in matrix_sizes:\n",
    "    b = np.random.rand(matrix_size)\n",
    "    matrix = np.random.rand(matrix_size, matrix_size)\n",
    "    \n",
    "    start_time = time.time()\n",
    "    matrix_inverse = np.linalg.inv(matrix)\n",
    "    solution = np.dot(matrix_inverse, b)\n",
    "    end_time = time.time()\n",
    "\n",
    "    inverse_then_multiply_times.append(end_time - start_time)\n",
    "\n",
    "    start_time = time.time()\n",
    "    solution = np.linalg.solve(matrix, b)\n",
    "    end_time = time.time()\n",
    "\n",
    "    direct_solve_times.append(end_time - start_time)\n"
   ]
  },
  {
   "cell_type": "code",
   "execution_count": 22,
   "metadata": {},
   "outputs": [
    {
     "data": {
      "image/png": "[encoded data removed]",
      "text/plain": [
       "<Figure size 640x480 with 1 Axes>"
      ]
     },
     "metadata": {},
     "output_type": "display_data"
    }
   ],
   "source": [
    "plt.plot(matrix_sizes, inverse_then_multiply_times, label=r'$x = A^{-1}b$')\n",
    "plt.plot(matrix_sizes, direct_solve_times, label='Directly solve Ax=b')\n",
    "plt.legend()\n",
    "plt.xlabel('Matrix size')\n",
    "plt.ylabel('Time (s)')\n",
    "plt.show()"
   ]
  },
  {
   "cell_type": "markdown",
   "metadata": {},
   "source": [
    "### Q3) Linear Regression"
   ]
  },
  {
   "cell_type": "code",
   "execution_count": 23,
   "metadata": {},
   "outputs": [],
   "source": [
    "X_data, y_data= np.load('data.npz').values()\n"
   ]
  },
  {
   "cell_type": "code",
   "execution_count": 24,
   "metadata": {},
   "outputs": [
    {
     "name": "stdout",
     "output_type": "stream",
     "text": [
      "Rank of the matrix: 4000\n"
     ]
    }
   ],
   "source": [
    "rank = np.linalg.matrix_rank(X_data)\n",
    "print(f'Rank of the matrix: {rank}')"
   ]
  },
  {
   "cell_type": "code",
   "execution_count": 25,
   "metadata": {},
   "outputs": [
    {
     "name": "stdout",
     "output_type": "stream",
     "text": [
      "Rank of the augmented matrix: 4001\n"
     ]
    }
   ],
   "source": [
    "augmented_matrix = np.hstack((X_data, y_data[:, None]))\n",
    "rank_augmented = np.linalg.matrix_rank(augmented_matrix)\n",
    "print(f'Rank of the augmented matrix: {rank_augmented}')"
   ]
  },
  {
   "cell_type": "code",
   "execution_count": 26,
   "metadata": {},
   "outputs": [
    {
     "data": {
      "text/latex": [
       "$\\displaystyle \\beta = \\left(X^{T} X\\right)^{-1} X^{T} y$"
      ],
      "text/plain": [
       "<IPython.core.display.Math object>"
      ]
     },
     "metadata": {},
     "output_type": "display_data"
    }
   ],
   "source": [
    "from IPython.display import display, Math\n",
    "display(Math(r'\\beta = \\left(X^{T} X\\right)^{-1} X^{T} y'))\n"
   ]
  },
  {
   "cell_type": "code",
   "execution_count": 27,
   "metadata": {},
   "outputs": [],
   "source": [
    "# Compute the coefficients using the normal equation\n",
    "XTX = X_data.T @ X_data\n",
    "XTy = X_data.T @ y_data"
   ]
  },
  {
   "cell_type": "code",
   "execution_count": 28,
   "metadata": {},
   "outputs": [],
   "source": [
    "XTX_inv = np.linalg.inv(XTX)\n",
    "coefficients = XTX_inv @ XTy"
   ]
  },
  {
   "cell_type": "code",
   "execution_count": 29,
   "metadata": {},
   "outputs": [],
   "source": [
    "solver_coefficients = np.linalg.solve(XTX, XTy)"
   ]
  },
  {
   "cell_type": "code",
   "execution_count": null,
   "metadata": {},
   "outputs": [],
   "source": [
    "# true_coefficients = np.load('true_coefficients.npz')['true_coefficients']\n",
    "# print('Deviation from true coefficients:', np.linalg.norm(coefficients - true_coefficients))\n"
   ]
  },
  {
   "cell_type": "code",
   "execution_count": null,
   "metadata": {},
   "outputs": [],
   "source": [
    "# print('Deviation from true coefficients:', np.linalg.norm(solver_coefficients - true_coefficients))"
   ]
  }
 ],
 "metadata": {
  "kernelspec": {
   "display_name": "base",
   "language": "python",
   "name": "python3"
  },
  "language_info": {
   "codemirror_mode": {
    "name": "ipython",
    "version": 3
   },
   "file_extension": ".py",
   "mimetype": "text/x-python",
   "name": "python",
   "nbconvert_exporter": "python",
   "pygments_lexer": "ipython3",
   "version": "3.11.5"
  }
 },
 "nbformat": 4,
 "nbformat_minor": 2
}
