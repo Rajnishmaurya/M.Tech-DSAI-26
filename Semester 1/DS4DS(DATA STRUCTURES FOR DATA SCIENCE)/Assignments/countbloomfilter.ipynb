{
 "cells": [
  {
   "cell_type": "code",
   "execution_count": 7,
   "metadata": {},
   "outputs": [
    {
     "name": "stdout",
     "output_type": "stream",
     "text": [
      "True\n",
      "True\n",
      "[0, 1, 1, 0, 0, 0, 0, 0, 0, 0, 0, 0, 0, 0, 0, 0, 0, 0, 0, 0, 0, 0, 0, 1, 0, 0, 0, 0, 0, 0, 1, 0, 1, 0, 0, 1, 0, 0, 0, 0, 1, 0, 0, 0, 0, 0, 1, 0, 0, 0, 0, 0, 0, 0, 0, 0, 1, 0, 0, 0, 0, 0, 0, 0, 0, 0, 0, 0, 0, 0, 0, 0, 0, 0, 0, 0, 0, 0, 0, 0, 0, 0, 1, 0, 0, 0, 0, 0, 0, 1, 0, 1, 0, 0, 0, 0, 0, 0, 0, 0]\n"
     ]
    }
   ],
   "source": [
    "import mmh3\n",
    "class CountBloomFilter:\n",
    "    def __init__(self,size,numberofhash):\n",
    "        self.size=size\n",
    "        self.numberofhash=numberofhash\n",
    "        self.count_array=[0]*size\n",
    "    \n",
    "    def add(self,item):\n",
    "        for i in range(self.numberofhash):\n",
    "            result=mmh3.hash(item,i)%self.size\n",
    "            self.count_array[result]+=1\n",
    "    def check(self,item):\n",
    "        for i in range(self.numberofhash):\n",
    "            result=mmh3.hash(item,i)%self.size \n",
    "            if self.count_array[result]==0:\n",
    "                return False\n",
    "        return True\n",
    "    \n",
    "    def remove(self,item):\n",
    "        if not self.check(item):\n",
    "            return False\n",
    "        for i in range(self.numberofhash):\n",
    "            result=mmh3.hash(item,i)%self.size\n",
    "            self.count_array[result]-=1\n",
    "        return True\n",
    "    \n",
    "    def print(self):\n",
    "        print(self.count_array)\n",
    "    \n",
    "count_bloom_filter=CountBloomFilter(size=100,numberofhash=4)\n",
    "count_bloom_filter.add(\"Rajnish\")\n",
    "count_bloom_filter.add(\"Maurya\")\n",
    "\n",
    "\n",
    "print(count_bloom_filter.check(\"Rajnish\"))    \n",
    "print(count_bloom_filter.check(\"Maurya\"))   \n",
    "count_bloom_filter.add(\"IITM\")\n",
    "  \n",
    "count_bloom_filter.print()  \n",
    "    \n",
    "                        "
   ]
  },
  {
   "cell_type": "code",
   "execution_count": null,
   "metadata": {},
   "outputs": [],
   "source": []
  },
  {
   "cell_type": "code",
   "execution_count": null,
   "metadata": {},
   "outputs": [],
   "source": []
  }
 ],
 "metadata": {
  "kernelspec": {
   "display_name": "Python 3",
   "language": "python",
   "name": "python3"
  },
  "language_info": {
   "codemirror_mode": {
    "name": "ipython",
    "version": 3
   },
   "file_extension": ".py",
   "mimetype": "text/x-python",
   "name": "python",
   "nbconvert_exporter": "python",
   "pygments_lexer": "ipython3",
   "version": "3.12.5"
  }
 },
 "nbformat": 4,
 "nbformat_minor": 2
}
