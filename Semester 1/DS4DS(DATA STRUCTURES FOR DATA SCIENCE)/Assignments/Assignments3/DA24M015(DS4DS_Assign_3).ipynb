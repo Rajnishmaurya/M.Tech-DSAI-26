{
 "cells": [
  {
   "cell_type": "code",
   "execution_count": 47,
   "metadata": {
    "id": "upv_h-TsP4bv"
   },
   "outputs": [],
   "source": [
    "class TreeNode:\n",
    "  def __init__(self,val):\n",
    "    self.val=val\n",
    "    self.left=None\n",
    "    self.right=None\n",
    "\n",
    "class BinarySearchTree:\n",
    "  def __init__(self):\n",
    "    self.root=None\n",
    "\n",
    "  # Insert\n",
    "  def insert(self,key):\n",
    "    if self.root is None:\n",
    "      self.root=TreeNode(key)\n",
    "    else:\n",
    "      self._insert(self.root,key)\n",
    "\n",
    "  def _insert(self,root,key):\n",
    "    if key<root.val:\n",
    "      if root.left is None:\n",
    "        root.left=TreeNode(key)\n",
    "      else:\n",
    "        self._insert(root.left,key)\n",
    "    else:\n",
    "      if root.right is None:\n",
    "        root.right=TreeNode(key)\n",
    "      else:\n",
    "        self._insert(root.right,key)\n",
    "# Minimum\n",
    "  def min(self, root):\n",
    "    current = root\n",
    "    while current.left is not None:\n",
    "       current = current.left\n",
    "    return current\n",
    "\n",
    "    # Maximum\n",
    "  def max(self, root):\n",
    "    current = root\n",
    "    while current.right is not None:\n",
    "      current = current.right\n",
    "    return current\n",
    "\n",
    "# Search\n",
    "  def search(self,root,key):\n",
    "    if root is None or root.val==key:\n",
    "       return root\n",
    "    if key<root.val:\n",
    "       return self.search(root.left,key)\n",
    "    else:\n",
    "       return self.search(root.right,key)\n",
    "\n",
    "\n",
    "# Inorder\n",
    "  def inorder(self,root):\n",
    "    if root is not None:\n",
    "      self.inorder(root.left)\n",
    "      print(root.val,end=' ')\n",
    "      self.inorder(root.right)\n",
    "\n",
    "\n",
    "# Successor\n",
    "\n",
    "  def inorder_successor(self,key):\n",
    "    node=self.search(self.root,key)\n",
    "    if node is None:\n",
    "      return None\n",
    "\n",
    "    if node.right:\n",
    "      return self.min(node.right)\n",
    "\n",
    "    successor=None\n",
    "    ancestor=self.root\n",
    "\n",
    "    while ancestor!=node:\n",
    "      if node.val<ancestor.val:\n",
    "        successor=ancestor\n",
    "        ancestor=ancestor.left\n",
    "      else:\n",
    "        ancestor=ancestor.right\n",
    "    return successor\n",
    "\n",
    "\n"
   ]
  },
  {
   "cell_type": "code",
   "execution_count": 49,
   "metadata": {
    "colab": {
     "base_uri": "https://localhost:8080/"
    },
    "id": "ibelQE8nS8Oq",
    "outputId": "2144343e-710f-4954-cda3-27fc5d033817"
   },
   "outputs": [
    {
     "name": "stdout",
     "output_type": "stream",
     "text": [
      "78\n"
     ]
    }
   ],
   "source": [
    "bst=BinarySearchTree()\n",
    "\n",
    "keys=[14,5,6,3,78,98]\n",
    "\n",
    "for key in keys:\n",
    "  bst.insert(key)\n",
    "\n",
    "successor=bst.inorder_successor(14)\n",
    "if successor:\n",
    "  print(successor.val)\n",
    "else:\n",
    "  print(\"No suceessor found\")"
   ]
  },
  {
   "cell_type": "code",
   "execution_count": 50,
   "metadata": {
    "colab": {
     "base_uri": "https://localhost:8080/"
    },
    "id": "eJS5xoC0TVNa",
    "outputId": "e20583fd-a4b5-46bf-92e4-ae8c3fb60dfe"
   },
   "outputs": [
    {
     "name": "stdout",
     "output_type": "stream",
     "text": [
      "3 5 6 14 78 98 "
     ]
    }
   ],
   "source": [
    "bst.inorder(bst.root)"
   ]
  },
  {
   "cell_type": "code",
   "execution_count": null,
   "metadata": {
    "id": "A-uQB84GTYlE"
   },
   "outputs": [],
   "source": [
    "class TreeNode:\n",
    "    def __init__(self,key):\n",
    "        self.key=key\n",
    "        self.left=None\n",
    "        self.right=None"
   ]
  },
  {
   "cell_type": "code",
   "execution_count": null,
   "metadata": {},
   "outputs": [
    {
     "ename": "SyntaxError",
     "evalue": "incomplete input (1304126262.py, line 32)",
     "output_type": "error",
     "traceback": [
      "\u001b[1;36m  Cell \u001b[1;32mIn[4], line 32\u001b[1;36m\u001b[0m\n\u001b[1;33m    \u001b[0m\n\u001b[1;37m    ^\u001b[0m\n\u001b[1;31mSyntaxError\u001b[0m\u001b[1;31m:\u001b[0m incomplete input\n"
     ]
    }
   ],
   "source": [
    "class BST:\n",
    "    def __init__(self):\n",
    "        self.root=None\n",
    "    \n",
    "    def insert(self,data):\n",
    "        if self.root is None:\n",
    "            self.root=TreeNode(data)\n",
    "        else:\n",
    "            self.__insert(self.root,data)\n",
    "            \n",
    "    def _insert(self,root,data): \n",
    "        if data<root.key:\n",
    "            if root.left is None:\n",
    "                root.left=TreeNode(data)\n",
    "            else:  \n",
    "                self._insert(root.left,key)\n",
    "        else:\n",
    "            if root.right is None:\n",
    "                root.right=TreeNode(data)\n",
    "            else:\n",
    "                self._insert(root.right,data) \n",
    "    \n",
    "    def search(self,root,data):\n",
    "        if root is None or root.key==data:\n",
    "            return root\n",
    "        if data<root.key:\n",
    "            self.search(root.left,data)\n",
    "        else:\n",
    "            self.search(root.right,data)\n",
    "    \n",
    "    def min(self,root):\n",
    "        temp=root\n",
    "        while temp.left is not None:\n",
    "            temp=temp.left\n",
    "        return temp\n",
    "    \n",
    "    def max(self,root):\n",
    "        temp=root\n",
    "        while temp.right is not None:\n",
    "            temp=temp.right\n",
    "        return temp\n",
    "    \n",
    "    def inorder(self,root):\n",
    "        if root:\n",
    "            self.inorder(root.left)\n",
    "            print(root.key,end=' ')\n",
    "            self.inorder(root.right)\n",
    "    \n",
    "    \n",
    "    def inordersuccessor(self,root,data):\n",
    "        node=self.search(self.root,data)            \n",
    "            \n",
    "        if not node:\n",
    "            return None\n",
    "        \n",
    "        if node.right:\n",
    "            return self.min(root.right)\n",
    "        \n",
    "        successor=None\n",
    "        ancestor=self.root\n",
    "        \n",
    "        while node!=ancestor:\n",
    "            if node.key<ancestor.key:\n",
    "                successor=ancestor\n",
    "                ancestor=ancestor.left\n",
    "            else:\n",
    "                ancestor=ancestor.right\n",
    "        return successor                \n",
    "        \n",
    "        \n",
    "        \n",
    "        \n",
    "        \n",
    "        \n",
    "        \n",
    "        \n",
    "                                               "
   ]
  },
  {
   "cell_type": "code",
   "execution_count": null,
   "metadata": {},
   "outputs": [],
   "source": []
  }
 ],
 "metadata": {
  "accelerator": "GPU",
  "colab": {
   "gpuType": "T4",
   "provenance": []
  },
  "kernelspec": {
   "display_name": "Python 3",
   "name": "python3"
  },
  "language_info": {
   "codemirror_mode": {
    "name": "ipython",
    "version": 3
   },
   "file_extension": ".py",
   "mimetype": "text/x-python",
   "name": "python",
   "nbconvert_exporter": "python",
   "pygments_lexer": "ipython3",
   "version": "3.12.5"
  }
 },
 "nbformat": 4,
 "nbformat_minor": 0
}
