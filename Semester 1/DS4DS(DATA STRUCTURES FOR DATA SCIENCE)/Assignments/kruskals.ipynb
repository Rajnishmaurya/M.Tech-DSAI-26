{
 "cells": [
  {
   "cell_type": "code",
   "execution_count": 1,
   "metadata": {},
   "outputs": [],
   "source": [
    "class Disjoint_set:\n",
    "    def __init__(self,n):\n",
    "        self.parent=[i for i in range(n)]\n",
    "        self.rank=[0]*n\n",
    "    \n",
    "    def find(self,x):\n",
    "        if x!=self.parent[x]:\n",
    "            self.parent[x]=self.find(self.parent[x])\n",
    "        return self.parent[x]\n",
    "    \n",
    "    def union(self,x,y):\n",
    "        X=self.find(x)\n",
    "        Y=self.find(y)\n",
    "        \n",
    "        if X!=Y:\n",
    "            if self.rank[X]>self.rank[Y]:\n",
    "                self.parent[Y]=X\n",
    "            elif self.parent[X]<self.parent[Y]:\n",
    "                self.parent[Y]=X\n",
    "            else:\n",
    "                self.rank[X]=self.rank[Y]+1\n",
    "                self.parent[Y]=X\n",
    "                \n",
    "                             \n",
    "    "
   ]
  },
  {
   "cell_type": "code",
   "execution_count": 2,
   "metadata": {},
   "outputs": [],
   "source": [
    "class Graph:\n",
    "    def __init__(self,vertices):\n",
    "        self.V=vertices\n",
    "        self.edges=[]\n",
    "    \n",
    "    def add_edge(self,u,v,w):\n",
    "        self.edges.append((w,u,v))\n",
    "        \n",
    "    def kruskals(self):\n",
    "        mst=[]\n",
    "        self.edges.sort()\n",
    "        \n",
    "        ds=Disjoint_set(self.V)\n",
    "        \n",
    "        for weight ,u,v in self.edges:\n",
    "            if ds.find(u)!=ds.find(v):\n",
    "                mst.append((u,v,weight))\n",
    "                ds.union(u,v)\n",
    "                \n",
    "        for u,v,w in mst:\n",
    "            print(f\"{u}--{v}--{w}\")\n",
    "            print(\"\\n\")         "
   ]
  },
  {
   "cell_type": "code",
   "execution_count": 3,
   "metadata": {},
   "outputs": [
    {
     "name": "stdout",
     "output_type": "stream",
     "text": [
      "1--2--2\n",
      "\n",
      "\n",
      "0--1--4\n",
      "\n",
      "\n",
      "1--3--5\n",
      "\n",
      "\n",
      "3--4--6\n",
      "\n",
      "\n",
      "3--5--7\n",
      "\n",
      "\n"
     ]
    }
   ],
   "source": [
    "g = Graph(6)\n",
    "g.add_edge(0, 1, 4)\n",
    "g.add_edge(0, 2, 4)\n",
    "g.add_edge(1, 2, 2)\n",
    "g.add_edge(1, 3, 5)\n",
    "g.add_edge(2, 3, 8)\n",
    "g.add_edge(3, 4, 6)\n",
    "g.add_edge(4, 5, 9)\n",
    "g.add_edge(3, 5, 7)\n",
    "\n",
    "g.kruskals()"
   ]
  },
  {
   "cell_type": "code",
   "execution_count": null,
   "metadata": {},
   "outputs": [],
   "source": []
  }
 ],
 "metadata": {
  "kernelspec": {
   "display_name": "Python 3",
   "language": "python",
   "name": "python3"
  },
  "language_info": {
   "codemirror_mode": {
    "name": "ipython",
    "version": 3
   },
   "file_extension": ".py",
   "mimetype": "text/x-python",
   "name": "python",
   "nbconvert_exporter": "python",
   "pygments_lexer": "ipython3",
   "version": "3.12.5"
  }
 },
 "nbformat": 4,
 "nbformat_minor": 2
}
