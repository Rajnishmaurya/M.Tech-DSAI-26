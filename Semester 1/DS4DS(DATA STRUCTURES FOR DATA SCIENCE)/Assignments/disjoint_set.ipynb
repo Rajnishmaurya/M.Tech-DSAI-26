{
 "cells": [
  {
   "cell_type": "code",
   "execution_count": 1,
   "metadata": {},
   "outputs": [],
   "source": [
    "class Disjoint_Set:\n",
    "    def __init__(self,n):\n",
    "        self.parent=[i for i in range(n)]\n",
    "        self.rank=[0]*n\n",
    "    \n",
    "    def find(self,x):\n",
    "        if x!=self.parent[x]:\n",
    "            self.parent[x]=self.find(self.parent[x])\n",
    "        return self.parent[x]  \n",
    "    \n",
    "    def union(self,x,y):\n",
    "        X=self.find(x)\n",
    "        Y=self.find(y)\n",
    "        \n",
    "        if X!=Y:\n",
    "            if self.rank[X]>self.rank[Y]:\n",
    "                self.parent[Y]=X\n",
    "            elif self.rank[X]<self.rank[Y]:\n",
    "                self.parent[Y]=X\n",
    "            else:\n",
    "                self.rank[X]=self.rank[Y]+1\n",
    "                self.parent[X]=self.parent[Y]\n",
    "    def connected(self,x,y):\n",
    "        return self.find(x)==self.find(y)            \n",
    "                    \n",
    "                    "
   ]
  },
  {
   "cell_type": "code",
   "execution_count": 3,
   "metadata": {},
   "outputs": [
    {
     "name": "stdout",
     "output_type": "stream",
     "text": [
      "False\n",
      "2\n"
     ]
    }
   ],
   "source": [
    "ds=Disjoint_Set(10)\n",
    "ds.union(1,2)\n",
    "ds.union(3,4)\n",
    "ds.union(4,6)\n",
    "\n",
    "print(ds.connected(1,3))\n",
    "print(ds.find(1))"
   ]
  },
  {
   "cell_type": "code",
   "execution_count": null,
   "metadata": {},
   "outputs": [],
   "source": []
  }
 ],
 "metadata": {
  "kernelspec": {
   "display_name": "Python 3",
   "language": "python",
   "name": "python3"
  },
  "language_info": {
   "codemirror_mode": {
    "name": "ipython",
    "version": 3
   },
   "file_extension": ".py",
   "mimetype": "text/x-python",
   "name": "python",
   "nbconvert_exporter": "python",
   "pygments_lexer": "ipython3",
   "version": "3.12.5"
  }
 },
 "nbformat": 4,
 "nbformat_minor": 2
}
