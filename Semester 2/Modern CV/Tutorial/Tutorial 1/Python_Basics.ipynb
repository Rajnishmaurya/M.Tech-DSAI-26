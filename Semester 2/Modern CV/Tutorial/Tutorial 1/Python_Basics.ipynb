{
  "cells": [
    {
      "cell_type": "markdown",
      "metadata": {
        "colab_type": "text",
        "id": "view-in-github"
      },
      "source": [
        "<a href=\"https://colab.research.google.com/github/Rohith-Rongali/EE5179-2023/blob/main/Tutorials/Tutorial-1/Python_Basics.ipynb\" target=\"_parent\"><img src=\"https://colab.research.google.com/assets/colab-badge.svg\" alt=\"Open In Colab\"/></a>"
      ]
    },
    {
      "cell_type": "code",
      "execution_count": 2,
      "metadata": {
        "id": "alrXoCflGKM8"
      },
      "outputs": [],
      "source": [
        "import matplotlib.pylab as plt\n",
        "import numpy as np"
      ]
    },
    {
      "cell_type": "markdown",
      "metadata": {
        "id": "ujfIAOPMb11i"
      },
      "source": [
        "<h1> Python Basics </h1>"
      ]
    },
    {
      "cell_type": "markdown",
      "metadata": {
        "id": "oqSFn0gFJDfA"
      },
      "source": [
        "<h1> 1. Data Structures </h1>"
      ]
    },
    {
      "cell_type": "markdown",
      "metadata": {
        "id": "_GRuTTpS-wz1"
      },
      "source": [
        "<h2> Lists </h2>\n",
        "A list in Python is a sequence of anything!\n"
      ]
    },
    {
      "cell_type": "code",
      "execution_count": 2,
      "metadata": {
        "id": "E0atEv9U_HyI"
      },
      "outputs": [
        {
          "name": "stdout",
          "output_type": "stream",
          "text": [
            "a\n",
            "1\n",
            "h\n",
            "{1, 2, 3}\n",
            "(1, 3, 5)\n"
          ]
        }
      ],
      "source": [
        "my_list=[1,'a','hello',[1,1,\"hello\"],(1,3,5),{1,2,3}]\n",
        "\n",
        "#accessing the elements of a list\n",
        "print(my_list[1])\n",
        "print(my_list[3][0])\n",
        "print(my_list[3][2][0])\n",
        "print(my_list[-1])\n",
        "print(my_list[-2])"
      ]
    },
    {
      "cell_type": "markdown",
      "metadata": {
        "id": "WkCqNO9q_3QJ"
      },
      "source": [
        "List Slicing"
      ]
    },
    {
      "cell_type": "code",
      "execution_count": 3,
      "metadata": {
        "id": "Y09faxfq_6hR"
      },
      "outputs": [
        {
          "name": "stdout",
          "output_type": "stream",
          "text": [
            "[1, 'a']\n",
            "['hello', [1, 1, 'hello'], (1, 3, 5), {1, 2, 3}]\n",
            "['hello', [1, 1, 'hello']]\n",
            "['hello', [1, 1, 'hello']]\n"
          ]
        }
      ],
      "source": [
        "print(my_list[:2])\n",
        "print(my_list[2:])\n",
        "print(my_list[2:4])\n",
        "print(my_list[-4:-2])"
      ]
    },
    {
      "cell_type": "markdown",
      "metadata": {
        "id": "S3GeTpG4_oWM"
      },
      "source": [
        "Lists are mutable; you can insert and delete elements"
      ]
    },
    {
      "cell_type": "code",
      "execution_count": 4,
      "metadata": {
        "id": "6cVnxlH3AHC7"
      },
      "outputs": [
        {
          "name": "stdout",
          "output_type": "stream",
          "text": [
            "[2, 'a', 'hello', [1, 1, 'hello'], (1, 3, 5), {1, 2, 3}]\n",
            "[2, 'a', 'hello', [1, 1, 'hello'], (1, 3, 5), {1, 2, 3}, 2]\n",
            "[2, 'a', 'hello', [1, 1, 'hello'], (1, 3, 5), {1, 2, 3}, 2, 3, 4]\n",
            "[2, 'a', 'hello', [1, 1, 'hello'], (1, 3, 5), {1, 2, 3}, 3, 4]\n",
            "[2, 'a', 'hello', [1, 1, 'hello'], (1, 3, 5), {1, 2, 3}]\n"
          ]
        }
      ],
      "source": [
        "my_list[0]=2\n",
        "print(my_list)\n",
        "\n",
        "my_list=my_list+[2]\n",
        "print(my_list)\n",
        "\n",
        "my_list=my_list+[3,4]\n",
        "print(my_list)\n",
        "\n",
        "del my_list[6]\n",
        "print(my_list)\n",
        "\n",
        "del my_list[6:8]\n",
        "print(my_list)"
      ]
    },
    {
      "cell_type": "markdown",
      "metadata": {
        "id": "5Adct5HVAfTV"
      },
      "source": [
        "List Methods"
      ]
    },
    {
      "cell_type": "code",
      "execution_count": 5,
      "metadata": {
        "id": "YkVyl9cAA9OJ"
      },
      "outputs": [
        {
          "name": "stdout",
          "output_type": "stream",
          "text": [
            "[2, 'a', 'hello', [1, 1, 'hello'], (1, 3, 5), {1, 2, 3}, 'append']\n"
          ]
        }
      ],
      "source": [
        "my_list.append(\"append\") #to add only a single element at the end of the list\n",
        "print(my_list)"
      ]
    },
    {
      "cell_type": "code",
      "execution_count": 6,
      "metadata": {
        "id": "TeO3MZ0eA_QF"
      },
      "outputs": [
        {
          "name": "stdout",
          "output_type": "stream",
          "text": [
            "[2, 'a', 'hello', [1, 1, 'hello'], (1, 3, 5), {1, 2, 3}, 'append', 5, 6, 7]\n"
          ]
        }
      ],
      "source": [
        "my_list.extend([5,6,7])   #to add several items to the list\n",
        "print(my_list)"
      ]
    },
    {
      "cell_type": "code",
      "execution_count": 7,
      "metadata": {
        "id": "1rfsPdp5BLDO"
      },
      "outputs": [
        {
          "name": "stdout",
          "output_type": "stream",
          "text": [
            "hello\n",
            "[2, 'a', [1, 1, 'hello'], (1, 3, 5), {1, 2, 3}, 'append', 5, 6, 7]\n",
            "7\n",
            "[2, 'a', [1, 1, 'hello'], (1, 3, 5), {1, 2, 3}, 'append', 5, 6]\n"
          ]
        }
      ],
      "source": [
        "print(my_list.pop(2))\t#the item at the given index is removed\n",
        "print(my_list)\t\t#the return value of this function is the indicated item\n",
        "print(my_list.pop())\t#if no argument is passed the last item is removed and returned\n",
        "print(my_list)"
      ]
    },
    {
      "cell_type": "markdown",
      "metadata": {
        "id": "io6fCPaOBU2p"
      },
      "source": [
        "There are many such methods that you can perform on lists..."
      ]
    },
    {
      "cell_type": "code",
      "execution_count": 8,
      "metadata": {
        "id": "f8GwAP9hBrhv"
      },
      "outputs": [
        {
          "name": "stdout",
          "output_type": "stream",
          "text": [
            "[1, 12, 101, 105, 2142]\n",
            "[2142, 105, 101, 12, 1]\n"
          ]
        }
      ],
      "source": [
        "numlist=[12,2142,1,101,105]\n",
        "numlist.sort()\n",
        "print(numlist)\n",
        "numlist.sort(reverse=True)\n",
        "print(numlist)"
      ]
    },
    {
      "cell_type": "markdown",
      "metadata": {
        "id": "GwEOrmpABtgf"
      },
      "source": [
        "There is another in-built fn \"sorted\" which takes the list as one of the arguments and it returns the sorted list the other two arguments are similar to that of the sort()"
      ]
    },
    {
      "cell_type": "code",
      "execution_count": 9,
      "metadata": {
        "id": "nyWUtlOuBvuR"
      },
      "outputs": [
        {
          "name": "stdout",
          "output_type": "stream",
          "text": [
            "[1, 12, 101, 105, 2142]\n"
          ]
        }
      ],
      "source": [
        "print(sorted(numlist))"
      ]
    },
    {
      "cell_type": "markdown",
      "metadata": {
        "id": "9N2wYJBhB_98"
      },
      "source": [
        "ALIASING LISTS"
      ]
    },
    {
      "cell_type": "code",
      "execution_count": 10,
      "metadata": {
        "id": "DDxVgdhaDIkQ"
      },
      "outputs": [
        {
          "name": "stdout",
          "output_type": "stream",
          "text": [
            "A is  ['cocoa', 1, 2]\n",
            "B is  ['cocoa', 1, 2]\n"
          ]
        }
      ],
      "source": [
        "A=[\"cocoa\",1,2]    #A is a variable which refers to the list\n",
        "B=A\t\t   #B is yet another variable which refers to the same list\n",
        "\n",
        "print(\"A is \",A)\n",
        "print(\"B is \",B)\n"
      ]
    },
    {
      "cell_type": "code",
      "execution_count": 11,
      "metadata": {
        "id": "3v5m2NLMDMKR"
      },
      "outputs": [
        {
          "name": "stdout",
          "output_type": "stream",
          "text": [
            "A is  ['manjul', 1, 2]\n",
            "B is  ['manjul', 1, 2]\n"
          ]
        }
      ],
      "source": [
        "A[0]=\"manjul\"\n",
        "print(\"A is \",A)\n",
        "print(\"B is \",B)"
      ]
    },
    {
      "cell_type": "markdown",
      "metadata": {
        "id": "9COaFNJkDQCO"
      },
      "source": [
        "This will change the list which is refered to by A which means B is changed as well"
      ]
    },
    {
      "cell_type": "markdown",
      "metadata": {
        "id": "-49LPtJsDeFz"
      },
      "source": [
        "MAKING A CLONE"
      ]
    },
    {
      "cell_type": "code",
      "execution_count": 12,
      "metadata": {
        "id": "NOw8lK9sDa_z"
      },
      "outputs": [
        {
          "name": "stdout",
          "output_type": "stream",
          "text": [
            "A is  ['manjul', 1, 2]\n",
            "C is  ['manjul', 1, 2]\n"
          ]
        }
      ],
      "source": [
        "C=A[:]\t\t#This creates a copy of the list and hence C now refers to a different list\n",
        "\n",
        "print(\"A is \",A)\n",
        "print(\"C is \",C)\n"
      ]
    },
    {
      "cell_type": "code",
      "execution_count": 13,
      "metadata": {
        "id": "T6NjgqatD_pg"
      },
      "outputs": [
        {
          "name": "stdout",
          "output_type": "stream",
          "text": [
            "A is  ['cocoa', 1, 2]\n",
            "C is  ['manjul', 1, 2]\n"
          ]
        }
      ],
      "source": [
        "A[0]=\"cocoa\"\t#this will not change the list referred by C\n",
        "print(\"A is \",A)\n",
        "print(\"C is \",C)"
      ]
    },
    {
      "cell_type": "code",
      "execution_count": 14,
      "metadata": {
        "id": "Yi28fnF6D_jp"
      },
      "outputs": [
        {
          "name": "stdout",
          "output_type": "stream",
          "text": [
            "['cocoa', 1, 2]\n"
          ]
        }
      ],
      "source": [
        "#We could even do it this way\n",
        "D=A.copy()\n",
        "print(D)"
      ]
    },
    {
      "cell_type": "markdown",
      "metadata": {
        "id": "z9OnNbOYD0AQ"
      },
      "source": [
        "LIST COMPREHENSION"
      ]
    },
    {
      "cell_type": "code",
      "execution_count": 15,
      "metadata": {
        "id": "S9q1DyJu-cxb"
      },
      "outputs": [
        {
          "name": "stdout",
          "output_type": "stream",
          "text": [
            "[1, 2, 4, 8, 16, 32, 64, 128, 256, 512]\n",
            "[1, 2, 4, 8, 16]\n"
          ]
        }
      ],
      "source": [
        "\n",
        "listy=[2**x for x in range(0,10)]\n",
        "print(listy)\n",
        "\n",
        "listy=[2**x for x in range(0,10) if x<5]\t#if statement here is called a filter\n",
        "print(listy)\n",
        "\n"
      ]
    },
    {
      "cell_type": "markdown",
      "metadata": {
        "id": "1rTsdIStEOvA"
      },
      "source": [
        "<h2> Strings </h2>"
      ]
    },
    {
      "cell_type": "code",
      "execution_count": 16,
      "metadata": {
        "id": "waUGsvoxE5-3"
      },
      "outputs": [
        {
          "name": "stdout",
          "output_type": "stream",
          "text": [
            "hello!\n",
            "dfgdfgdgdgdgdg\n"
          ]
        }
      ],
      "source": [
        "my_string=\"hello!\"\n",
        "mystr='''dfgdfg\\\n",
        "dgdgdgdg'''\t\t#multi line strings are defined using triple inverted commas\n",
        "\n",
        "print(my_string)\n",
        "print(mystr)\n"
      ]
    },
    {
      "cell_type": "markdown",
      "metadata": {
        "id": "3kEaTd6nGLku"
      },
      "source": [
        "More slicing examples: Guess what each of them would give before printing..."
      ]
    },
    {
      "cell_type": "code",
      "execution_count": 19,
      "metadata": {
        "id": "P7C3Z8SvFhYN"
      },
      "outputs": [
        {
          "name": "stdout",
          "output_type": "stream",
          "text": [
            "string[2:6:2] ce\n",
            "string[-1::-1] hgfedcba\n",
            "string[-1::] h\n",
            "string[::] abcdefgh\n",
            "string[::-1] hgfedcba\n"
          ]
        }
      ],
      "source": [
        "string=\"abcdefgh\"\n",
        "\n",
        "print(\"string[2:6:2]\",string[2:6:2])\n",
        "\n",
        "print(\"string[-1::-1]\",string[-1::-1])\n",
        "\n",
        "print(\"string[-1::]\",string[-1::])\n",
        "\n",
        "print(\"string[::]\",string[::])\n",
        "\n",
        "print(\"string[::-1]\",string[::-1])\n"
      ]
    },
    {
      "cell_type": "markdown",
      "metadata": {
        "id": "aqhfW0WaFHQj"
      },
      "source": [
        "slicing is very much similar to that of lists\n",
        "\n",
        "strings are IMMUTABLE i.e. they cannot be changed and only entire deletion is possible"
      ]
    },
    {
      "cell_type": "markdown",
      "metadata": {
        "id": "_ex1rEwgGawe"
      },
      "source": [
        "<h2> Tuples </h2>"
      ]
    },
    {
      "cell_type": "code",
      "execution_count": 20,
      "metadata": {
        "id": "9EK91R6jGnWs"
      },
      "outputs": [
        {
          "name": "stdout",
          "output_type": "stream",
          "text": [
            "('hello', 1, 2)\n",
            "('hello', 1, 3)\n"
          ]
        }
      ],
      "source": [
        "#creating tuples\n",
        "my_tuple=\"hello\",1,2\n",
        "print(my_tuple)\n",
        "my_tuple=(\"hello\",1,3)\n",
        "print(my_tuple)\n"
      ]
    },
    {
      "cell_type": "markdown",
      "metadata": {
        "id": "nTaaBVO3GttQ"
      },
      "source": [
        "indexing and slicing are same as that of lists\n",
        "\n",
        "\n",
        "TUPLES ARE IMMUTABLE"
      ]
    },
    {
      "cell_type": "markdown",
      "metadata": {
        "id": "_z8X6bmVG0Dp"
      },
      "source": [
        "<h2> Sets </h2>\n",
        "DEFINITION:an unordered collection of items which are unique(no duplicates) and immutable.\n"
      ]
    },
    {
      "cell_type": "code",
      "execution_count": 21,
      "metadata": {
        "id": "pU8wxeBdGy2C"
      },
      "outputs": [
        {
          "name": "stdout",
          "output_type": "stream",
          "text": [
            "{1, 'hola', (2, 3, 4), 'a'}\n"
          ]
        }
      ],
      "source": [
        "#sets cannot have lists,sets or dictionaries as its elements\n",
        "#Creating sets\n",
        "my_set={1,'a','hola',(2,3,4),1}\n",
        "\n",
        "print(my_set)\n"
      ]
    },
    {
      "cell_type": "markdown",
      "metadata": {
        "id": "zlHae6oeHT-O"
      },
      "source": [
        "<h2>Dictionaries</h2>"
      ]
    },
    {
      "cell_type": "markdown",
      "metadata": {
        "id": "9-7EhxXQHo6h"
      },
      "source": [
        "DEFINITION: Dictionaries are also unordered collection like sets , for each item it has a key and its corresponding value pair.    key:value\n",
        "\n",
        "Values can be any datatypes\n",
        "\n",
        "But KEYS must be IMMUTABLE like numbers or strings or tuples(inside which also only immutable data types are allowed) and further the keys are to be UNIQUE  \n",
        "\n"
      ]
    },
    {
      "cell_type": "code",
      "execution_count": 22,
      "metadata": {
        "id": "mN0EZQvcHZSy"
      },
      "outputs": [],
      "source": [
        "#creating dictionaries\n",
        "my_dict={1:23,'a':'hello',\"hi\":{1:'a',2:'e'},(1,2):[(1,3),'s']}"
      ]
    },
    {
      "cell_type": "code",
      "execution_count": 23,
      "metadata": {
        "id": "PiOXb3EdIXvH"
      },
      "outputs": [],
      "source": [
        "my_dict1 = dict([(1,'apple'), (2,'ball')])\t#converted a list(in proper format) to dictionary"
      ]
    },
    {
      "cell_type": "markdown",
      "metadata": {
        "id": "xrMq7SiVHzd3"
      },
      "source": [
        "Please feel free to experiment these data structures and their methods. And then you can move to the exercises below."
      ]
    },
    {
      "cell_type": "code",
      "execution_count": 27,
      "metadata": {},
      "outputs": [
        {
          "name": "stdout",
          "output_type": "stream",
          "text": [
            "a\n",
            "(1, 3)\n"
          ]
        }
      ],
      "source": [
        "print(my_dict['hi'][1])\n",
        "print(my_dict[(1,2)][0])"
      ]
    },
    {
      "cell_type": "markdown",
      "metadata": {
        "id": "NCKbF-k8I_jX"
      },
      "source": [
        "<h1> 2. Functions </h1>"
      ]
    },
    {
      "cell_type": "markdown",
      "metadata": {
        "id": "qe9H4zT1b5fN"
      },
      "source": [
        "**Exercise #1 :** Fibonacci sequence\n",
        "\n",
        "A Fibonacci sequence is the integer sequence of 0, 1, 1, 2, 3, 5, 8. The first two terms are 0 and 1. All other terms are obtained by adding the preceding two terms.This means to say the nth term is the sum of (n-1)th and (n-2)th term.\n",
        "\n",
        "**Your Task**: Implement the functions `recur_fibo`"
      ]
    },
    {
      "cell_type": "code",
      "execution_count": 2,
      "metadata": {
        "id": "zP9ueOPUb2Yz"
      },
      "outputs": [
        {
          "name": "stdout",
          "output_type": "stream",
          "text": [
            "1th term is 0\n",
            "2th term is 1\n",
            "3th term is 1\n",
            "4th term is 2\n",
            "5th term is 3\n",
            "6th term is 5\n",
            "7th term is 8\n",
            "8th term is 13\n",
            "9th term is 21\n",
            "10th term is 34\n"
          ]
        }
      ],
      "source": [
        "def recur_fibo(n):\n",
        "\n",
        "  #Implement the recursive call escape statement\n",
        "  ## YOUR CODE STARTS HERE\n",
        "  if n<=1:\n",
        "    return 0\n",
        "  elif n==2:\n",
        "    return 1\n",
        "  \n",
        "  return recur_fibo(n-1)+recur_fibo(n-2)\n",
        "\n",
        "  ## YOUR CODE ENDS HERE\n",
        "  return None\n",
        "\n",
        "nterms = 10 # display the Fibonacci sequence up to n-th term\n",
        "\n",
        "# check if the number of terms is valid\n",
        "for i in range(1,nterms+1):\n",
        "  print(f'{i}th term is {recur_fibo(i)}')"
      ]
    },
    {
      "cell_type": "markdown",
      "metadata": {
        "id": "knaJKaldfhMC"
      },
      "source": [
        "**Exercise #2:** Lambda function\n",
        "\n",
        "A lambda function is a small anonymous function that can take any number of arguments, but can only have one expression.\n",
        "\n",
        "**Your Task**: Implement Lambda function for `sigmoid_lambda` and `relu_lambda` whose definition is given below:\n",
        "\n",
        "$$sigmoid(x)=\\frac{1}{1+e^x}$$\n",
        "$$ReLU(x)=x^+ = max{(0,x)}$$"
      ]
    },
    {
      "cell_type": "code",
      "execution_count": 5,
      "metadata": {
        "id": "WaHJERI5fvrh"
      },
      "outputs": [],
      "source": [
        "def sigmoid(x):\n",
        "  sigmoid = 1 / (1 + np.exp(-x))\n",
        "  return sigmoid\n",
        "\n",
        "## Implement the above sigmoid function using python lambda functions\n",
        "## YOUR CODE STARTS HERE\n",
        "sigmoid_lambda = lambda x: 1 / (1 + np.exp(-x))\n",
        "## YOUR CODE ENDS HERE\n",
        "\n",
        "assert sigmoid(10)==sigmoid_lambda(10)"
      ]
    },
    {
      "cell_type": "code",
      "execution_count": 6,
      "metadata": {
        "id": "7P5FQQz-hPcI"
      },
      "outputs": [],
      "source": [
        "def relu(x):\n",
        "  relu = x if x>0 else 0\n",
        "  return relu\n",
        "\n",
        "## Implement the above sigmoid function using python lambda functions\n",
        "## YOUR CODE STARTS HERE\n",
        "relu_lambda = lambda x: x if x>0 else 0\n",
        "## YOUR CODE ENDS HERE\n",
        "assert relu(10)==relu_lambda(10)"
      ]
    },
    {
      "cell_type": "markdown",
      "metadata": {
        "id": "KeA4VNsth4tQ"
      },
      "source": [
        "**Exercise #3:** Python map keyword\n",
        "\n",
        "**Your Task**: Using the lambda functions and python's map keyword apply `sigmoid` and `relu` on a list of numbers from -20 to 20.\n",
        "Store the output in a list and print it."
      ]
    },
    {
      "cell_type": "code",
      "execution_count": 10,
      "metadata": {
        "id": "kN6zQyPch3PT"
      },
      "outputs": [
        {
          "name": "stdout",
          "output_type": "stream",
          "text": [
            "[np.float64(2.0611536181902037e-09), np.float64(5.602796406145941e-09), np.float64(1.522997951276035e-08), np.float64(4.1399375473943306e-08), np.float64(1.12535162055095e-07), np.float64(3.059022269256247e-07), np.float64(8.315280276641321e-07), np.float64(2.2603242979035746e-06), np.float64(6.144174602214718e-06), np.float64(1.670142184809518e-05), np.float64(4.5397868702434395e-05), np.float64(0.00012339457598623172), np.float64(0.0003353501304664781), np.float64(0.0009110511944006454), np.float64(0.0024726231566347743), np.float64(0.0066928509242848554), np.float64(0.01798620996209156), np.float64(0.04742587317756678), np.float64(0.11920292202211755), np.float64(0.2689414213699951), np.float64(0.5), np.float64(0.7310585786300049), np.float64(0.8807970779778823), np.float64(0.9525741268224334), np.float64(0.9820137900379085), np.float64(0.9933071490757153), np.float64(0.9975273768433653), np.float64(0.9990889488055994), np.float64(0.9996646498695336), np.float64(0.9998766054240137), np.float64(0.9999546021312976), np.float64(0.999983298578152), np.float64(0.9999938558253978), np.float64(0.999997739675702), np.float64(0.9999991684719722), np.float64(0.999999694097773), np.float64(0.9999998874648379), np.float64(0.9999999586006244), np.float64(0.9999999847700205), np.float64(0.9999999943972036)]\n"
          ]
        },
        {
          "data": {
            "text/plain": [
              "[<matplotlib.lines.Line2D at 0x23e6eb6f1f0>]"
            ]
          },
          "execution_count": 10,
          "metadata": {},
          "output_type": "execute_result"
        },
        {
          "data": {
            "image/png": "[encoded data removed]",
            "text/plain": [
              "<Figure size 640x480 with 1 Axes>"
            ]
          },
          "metadata": {},
          "output_type": "display_data"
        }
      ],
      "source": [
        "x_list = [*range(-20,20)]\n",
        "## YOUR CODE STARTS HERE\n",
        "sigmoid_out = list(map(sigmoid, x_list))\n",
        "## YOUR CODE ENDS HERE\n",
        "print(sigmoid_out)\n",
        "plt.plot(x_list,sigmoid_out)"
      ]
    },
    {
      "cell_type": "code",
      "execution_count": 11,
      "metadata": {
        "id": "mDLEqXh2iLMf"
      },
      "outputs": [
        {
          "name": "stdout",
          "output_type": "stream",
          "text": [
            "[0, 0, 0, 0, 0, 0, 0, 0, 0, 0, 0, 0, 0, 0, 0, 0, 0, 0, 0, 0, 0, 1, 2, 3, 4, 5, 6, 7, 8, 9, 10, 11, 12, 13, 14, 15, 16, 17, 18, 19]\n"
          ]
        },
        {
          "data": {
            "text/plain": [
              "[<matplotlib.lines.Line2D at 0x23e6ebe7be0>]"
            ]
          },
          "execution_count": 11,
          "metadata": {},
          "output_type": "execute_result"
        },
        {
          "data": {
            "image/png": "[encoded data removed]",
            "text/plain": [
              "<Figure size 640x480 with 1 Axes>"
            ]
          },
          "metadata": {},
          "output_type": "display_data"
        }
      ],
      "source": [
        "x_list = [*range(-20,20)]\n",
        "## YOUR CODE STARTS HERE\n",
        "relu_out = list(map(relu, x_list))\n",
        "## YOUR CODE ENDS HERE\n",
        "print(relu_out)\n",
        "plt.plot(x_list,relu_out)"
      ]
    },
    {
      "cell_type": "markdown",
      "metadata": {
        "id": "-dobg1NJLrUc"
      },
      "source": [
        "**Exercise #4:** On Data structures\n",
        "\n",
        "**Your Task**: You are given a paragraph as a string. Write a function to return a sorted dictionary with keys as the set of words and the corresponding values as their frequency in the paragraph"
      ]
    },
    {
      "cell_type": "code",
      "execution_count": 21,
      "metadata": {
        "id": "2QqqW13jNUcW"
      },
      "outputs": [],
      "source": [
        "def count_word_frequency(paragraph):\n",
        "    # Convert the paragraph to lowercase to ensure case-insensitivity\n",
        "    paragraph = paragraph.lower()\n",
        "\n",
        "    # Split the paragraph into words\n",
        "    words = paragraph.split()\n",
        "\n",
        "    # Initialize an empty dictionary to store word frequencies\n",
        "    word_freq = {}\n",
        "\n",
        "    # Write a for loop to update the frequencies of each word\n",
        "    ## YOUR CODE STARTS HERE\n",
        "    for i in words:\n",
        "        if i in word_freq:\n",
        "            word_freq[i] += 1\n",
        "        else:\n",
        "            word_freq[i] = 1\n",
        "    ## YOUR CODE ENDS HERE\n",
        "\n",
        "    return dict(sorted(word_freq.items(), key=lambda item: item[1], reverse=True))\n"
      ]
    },
    {
      "cell_type": "code",
      "execution_count": 22,
      "metadata": {
        "id": "lOeT7YZNPgci"
      },
      "outputs": [],
      "source": [
        "# Test the function\n",
        "paragraph = \"\"\"\n",
        "Language is a fundamental aspect of human communication. It allows us to convey ideas, emotions, and information to one another. From spoken words to written texts, language takes various forms, each with its unique beauty. The evolution of languages has been a fascinating journey, shaped by cultural interactions and historical events.\n",
        "\n",
        "English, one of the most widely spoken languages globally , has a rich history. It originated in England and gradually spread across the world due to colonization and globalization. Today, it serves as a lingua franca for international business, diplomacy, and academia. Its flexibility and adaptability have contributed to its widespread adoption.\n",
        "\n",
        "Languages are not just a means of communication; they also shape the way we think and perceive the world. Linguists study the intricate structures and grammar of languages to understand how they influence cognition. Each language reflects the culture and values of its speakers, carrying the weight of their history.\n",
        "\n",
        "As technology advances , language continues to evolve. New words and phrases emerge, reflecting modern trends and innovations. The internet , with its global reach, has played a significant role in disseminating languages and creating new digital communication styles.\n",
        "\n",
        "Preserving endangered languages is an essential endeavor to maintain cultural diversity. Many languages are at risk of disappearing as fewer speakers pass them on to the next generation. Efforts are being made to document and revitalize endangered languages, recognizing their significance in preserving unique cultural heritage.\n",
        "\n",
        "In conclusion , language is a powerful tool that shapes human interactions and defines cultures. It is a bridge that connects people across the world, fostering understanding and empathy. As we cherish and celebrate linguistic diversity, we embrace the richness of humanity's collective heritage.\n",
        "\"\"\"\n"
      ]
    },
    {
      "cell_type": "code",
      "execution_count": 23,
      "metadata": {
        "id": "fbi1AzwVPnVt"
      },
      "outputs": [
        {
          "name": "stdout",
          "output_type": "stream",
          "text": [
            "{'and': 16, 'the': 12, 'to': 10, 'of': 9, 'a': 8, 'languages': 7, 'language': 5, 'its': 5, 'is': 4, 'it': 4, ',': 4, 'in': 4, 'as': 4, 'has': 3, 'cultural': 3, 'are': 3, 'we': 3, 'human': 2, 'one': 2, 'spoken': 2, 'words': 2, 'each': 2, 'with': 2, 'unique': 2, 'interactions': 2, 'history.': 2, 'across': 2, 'they': 2, 'their': 2, 'new': 2, 'preserving': 2, 'endangered': 2, 'heritage.': 2, 'that': 2, 'fundamental': 1, 'aspect': 1, 'communication.': 1, 'allows': 1, 'us': 1, 'convey': 1, 'ideas,': 1, 'emotions,': 1, 'information': 1, 'another.': 1, 'from': 1, 'written': 1, 'texts,': 1, 'takes': 1, 'various': 1, 'forms,': 1, 'beauty.': 1, 'evolution': 1, 'been': 1, 'fascinating': 1, 'journey,': 1, 'shaped': 1, 'by': 1, 'historical': 1, 'events.': 1, 'english,': 1, 'most': 1, 'widely': 1, 'globally': 1, 'rich': 1, 'originated': 1, 'england': 1, 'gradually': 1, 'spread': 1, 'world': 1, 'due': 1, 'colonization': 1, 'globalization.': 1, 'today,': 1, 'serves': 1, 'lingua': 1, 'franca': 1, 'for': 1, 'international': 1, 'business,': 1, 'diplomacy,': 1, 'academia.': 1, 'flexibility': 1, 'adaptability': 1, 'have': 1, 'contributed': 1, 'widespread': 1, 'adoption.': 1, 'not': 1, 'just': 1, 'means': 1, 'communication;': 1, 'also': 1, 'shape': 1, 'way': 1, 'think': 1, 'perceive': 1, 'world.': 1, 'linguists': 1, 'study': 1, 'intricate': 1, 'structures': 1, 'grammar': 1, 'understand': 1, 'how': 1, 'influence': 1, 'cognition.': 1, 'reflects': 1, 'culture': 1, 'values': 1, 'speakers,': 1, 'carrying': 1, 'weight': 1, 'technology': 1, 'advances': 1, 'continues': 1, 'evolve.': 1, 'phrases': 1, 'emerge,': 1, 'reflecting': 1, 'modern': 1, 'trends': 1, 'innovations.': 1, 'internet': 1, 'global': 1, 'reach,': 1, 'played': 1, 'significant': 1, 'role': 1, 'disseminating': 1, 'creating': 1, 'digital': 1, 'communication': 1, 'styles.': 1, 'an': 1, 'essential': 1, 'endeavor': 1, 'maintain': 1, 'diversity.': 1, 'many': 1, 'at': 1, 'risk': 1, 'disappearing': 1, 'fewer': 1, 'speakers': 1, 'pass': 1, 'them': 1, 'on': 1, 'next': 1, 'generation.': 1, 'efforts': 1, 'being': 1, 'made': 1, 'document': 1, 'revitalize': 1, 'languages,': 1, 'recognizing': 1, 'significance': 1, 'conclusion': 1, 'powerful': 1, 'tool': 1, 'shapes': 1, 'defines': 1, 'cultures.': 1, 'bridge': 1, 'connects': 1, 'people': 1, 'world,': 1, 'fostering': 1, 'understanding': 1, 'empathy.': 1, 'cherish': 1, 'celebrate': 1, 'linguistic': 1, 'diversity,': 1, 'embrace': 1, 'richness': 1, \"humanity's\": 1, 'collective': 1}\n"
          ]
        }
      ],
      "source": [
        "result = count_word_frequency(paragraph)\n",
        "print(result)"
      ]
    },
    {
      "cell_type": "markdown",
      "metadata": {
        "id": "U3zUDcQnR88t"
      },
      "source": [
        "[OPTIONAL Exercise] Do you observe any mistake in the output? Can u point out which part of the provided code is leading to this mistake and possibly correct it."
      ]
    },
    {
      "cell_type": "markdown",
      "metadata": {},
      "source": []
    },
    {
      "cell_type": "code",
      "execution_count": null,
      "metadata": {
        "id": "Xty4XaQeRJnO"
      },
      "outputs": [],
      "source": []
    }
  ],
  "metadata": {
    "colab": {
      "include_colab_link": true,
      "provenance": [],
      "toc_visible": true
    },
    "kernelspec": {
      "display_name": "Python 3",
      "language": "python",
      "name": "python3"
    },
    "language_info": {
      "codemirror_mode": {
        "name": "ipython",
        "version": 3
      },
      "file_extension": ".py",
      "mimetype": "text/x-python",
      "name": "python",
      "nbconvert_exporter": "python",
      "pygments_lexer": "ipython3",
      "version": "3.13.0"
    }
  },
  "nbformat": 4,
  "nbformat_minor": 0
}
