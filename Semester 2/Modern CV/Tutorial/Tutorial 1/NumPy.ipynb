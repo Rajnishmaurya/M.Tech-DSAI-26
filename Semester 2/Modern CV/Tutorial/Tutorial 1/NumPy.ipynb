{
  "cells": [
    {
      "cell_type": "markdown",
      "metadata": {
        "colab_type": "text",
        "id": "view-in-github"
      },
      "source": [
        "<a href=\"https://colab.research.google.com/github/Rohith-Rongali/EE5179-2023/blob/main/Tutorials/Tutorial-1/NumPy.ipynb\" target=\"_parent\"><img src=\"https://colab.research.google.com/assets/colab-badge.svg\" alt=\"Open In Colab\"/></a>"
      ]
    },
    {
      "cell_type": "code",
      "execution_count": 2,
      "metadata": {
        "id": "alrXoCflGKM8"
      },
      "outputs": [
        {
          "name": "stdout",
          "output_type": "stream",
          "text": [
            "2.1.3\n"
          ]
        }
      ],
      "source": [
        "import numpy as np\n",
        "print(np.__version__)\n",
        "import matplotlib.pylab as plt"
      ]
    },
    {
      "cell_type": "markdown",
      "metadata": {
        "id": "C6DUK8dwjExh"
      },
      "source": [
        "# Numpy Basics:\n"
      ]
    },
    {
      "cell_type": "markdown",
      "metadata": {
        "id": "9x-UquUqkMWs"
      },
      "source": [
        "**Exercise #1:** Creating a numpy array with particular value\n",
        "\n",
        "**Your Task** Create a numpy array with size 2*3 with all elements as 5."
      ]
    },
    {
      "cell_type": "code",
      "execution_count": 3,
      "metadata": {
        "id": "jyhhYUA4kpqj"
      },
      "outputs": [
        {
          "name": "stdout",
          "output_type": "stream",
          "text": [
            "[[5 5 5]\n",
            " [5 5 5]]\n"
          ]
        }
      ],
      "source": [
        "# YOUR CODE STARTS HERE\n",
        "arr = np.full((2, 3), 5)\n",
        "# YOUR CODE ENDS HERE\n",
        "print(arr)"
      ]
    },
    {
      "cell_type": "markdown",
      "metadata": {
        "id": "5NaczYqflEd5"
      },
      "source": [
        "**Exercise #2:** Creating a numpy array with *random* value\n",
        "\n",
        "**Your Task** Create a numpy array with size 2*3 with all random values"
      ]
    },
    {
      "cell_type": "code",
      "execution_count": 4,
      "metadata": {
        "id": "9H2HQNC9lL-0"
      },
      "outputs": [
        {
          "name": "stdout",
          "output_type": "stream",
          "text": [
            "[[0.9340491  0.62440893 0.19984508]\n",
            " [0.70205538 0.37939481 0.52837761]]\n"
          ]
        }
      ],
      "source": [
        "# YOUR CODE STARTS HERE\n",
        "rand_arr = np.random.rand(2, 3)\n",
        "# YOUR CODE ENDS HERE\n",
        "print(rand_arr)"
      ]
    },
    {
      "cell_type": "markdown",
      "metadata": {
        "id": "uT4LJPBFldNc"
      },
      "source": [
        "**Exercise #3:** Basic NumPy operatrions\n",
        "\n",
        "**Your Task** For the random array `arr`defined above, find the `sum` of all the elements, `mean`, `maximum` and `minimum` value"
      ]
    },
    {
      "cell_type": "code",
      "execution_count": 5,
      "metadata": {
        "id": "UDrDaAK4l5gq"
      },
      "outputs": [
        {
          "name": "stdout",
          "output_type": "stream",
          "text": [
            "sum: 3.3681309024905692\n",
            "mean: 0.5613551504150949\n",
            "max: 0.9340490997810151\n",
            "min:0.1998450834654243\n"
          ]
        }
      ],
      "source": [
        "#YOUR CODE STARTS HERE\n",
        "arr_sum = np.sum(rand_arr)\n",
        "arr_mean = np.mean(rand_arr)\n",
        "arr_max = np.max(rand_arr)\n",
        "arr_min = np.min(rand_arr)\n",
        "#YOUR CODE ENDS HERE\n",
        "\n",
        "print(f'sum: {arr_sum}\\nmean: {arr_mean}\\nmax: {arr_max}\\nmin:{arr_min}')"
      ]
    },
    {
      "cell_type": "markdown",
      "metadata": {
        "id": "JzoFSwHjl3dW"
      },
      "source": [
        "**Exercise #4:** `argmin` and `argmax`\n",
        "\n",
        "**Your Task** For the random array `arr`defined below:\n",
        "\n",
        "*   Find the position of maximum and minimum value of above array\n",
        "*   Find the indices of maximum and minimum value along each of its columns.\n",
        "*   Find the indices of maximum and minimum value along each of the its rows.\n",
        "\n"
      ]
    },
    {
      "cell_type": "code",
      "execution_count": 9,
      "metadata": {
        "id": "VBawwx5KmpZR"
      },
      "outputs": [
        {
          "name": "stdout",
          "output_type": "stream",
          "text": [
            "Array:\n",
            "[[ 5 12 51 25]\n",
            " [25 29  2 27]]\n",
            "\n",
            "Maximum Value is at position (np.int64(0), np.int64(2)).\n",
            "Minimum Value is at position (np.int64(1), np.int64(2)).\n",
            "Indices of Maximum Values along Columns: [1 1 0 1]\n",
            "Indices of Minimum Values along Columns: [0 0 1 0]\n",
            "Indices of Maximum Values along Rows: [2 1]\n",
            "Indices of Minimum Values along Rows: [0 2]\n"
          ]
        }
      ],
      "source": [
        "# Define an array\n",
        "arr = np.array([[5,12,51,25] ,[25,29,2,27]])\n",
        "print(f'Array:\\n{arr}\\n')\n",
        "# YOUR CODE STARTS HERE\n",
        "#Find the position of maximum and minimum value of above array\n",
        "\n",
        "max_pos = np.unravel_index(np.argmax(arr), arr.shape)\n",
        "min_pos = np.unravel_index(np.argmin(arr), arr.shape)\n",
        "\n",
        "#Find the indices of maximum and minimum value along each of its columns.\n",
        "\n",
        "\n",
        "max_indices_col = np.argmax(arr, axis=0)\n",
        "min_indices_col = np.argmin(arr, axis=0)\n",
        "\n",
        "#Find the indices of maximum and minimum value along each of the its rows.\n",
        "max_indices_row = np.argmax(arr, axis=1)\n",
        "min_indices_row = np.argmin(arr, axis=1)\n",
        "\n",
        "# Displaying the results\n",
        "print(f\"Maximum Value is at position {max_pos}.\")\n",
        "print(f\"Minimum Value is at position {min_pos}.\")\n",
        "print(\"Indices of Maximum Values along Columns:\", max_indices_col)\n",
        "print(\"Indices of Minimum Values along Columns:\", min_indices_col)\n",
        "print(\"Indices of Maximum Values along Rows:\", max_indices_row)\n",
        "print(\"Indices of Minimum Values along Rows:\", min_indices_row)\n",
        "\n",
        "#YOUR CODE ENDS HERE"
      ]
    },
    {
      "cell_type": "markdown",
      "metadata": {
        "id": "c6EJuS1SbEuX"
      },
      "source": [
        "Numpy Arrays vs. Python Lists?\n",
        "\n",
        "    Why the need for numpy arrays? Can't we just use Python lists?\n",
        "    Iterating over numpy arrays is slow. Slicing is faster\n",
        "\n",
        "Python lists may contain items of different types. This flexibility comes at a price: Python lists store pointers to memory locations. On the other hand, numpy arrays are typed, where the default type is floating point. Because of this, the system knows how much memory to allocate, and if you ask for an array of size 100, it will allocate one hundred contiguous spots in memory, where the size of each spot is based on the type. This makes access extremely fast.\n",
        "\n",
        "\n",
        "If you want to know more, we will suggest that you read this from [Jake Vanderplas's Data Science Handbook](https://jakevdp.github.io/PythonDataScienceHandbook/). You will find that book an incredible resource for learning numpy, pandas and plotting. All the lessons are available as colab notebooks so that u can try out the commands on your own."
      ]
    }
  ],
  "metadata": {
    "colab": {
      "include_colab_link": true,
      "provenance": [],
      "toc_visible": true
    },
    "kernelspec": {
      "display_name": "Python 3",
      "name": "python3"
    },
    "language_info": {
      "codemirror_mode": {
        "name": "ipython",
        "version": 3
      },
      "file_extension": ".py",
      "mimetype": "text/x-python",
      "name": "python",
      "nbconvert_exporter": "python",
      "pygments_lexer": "ipython3",
      "version": "3.13.0"
    }
  },
  "nbformat": 4,
  "nbformat_minor": 0
}
